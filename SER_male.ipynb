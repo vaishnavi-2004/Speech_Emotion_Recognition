{
 "cells": [
  {
   "cell_type": "markdown",
   "id": "d256dcc4",
   "metadata": {},
   "source": [
    "# Speech Emotion Recognition - Male"
   ]
  },
  {
   "cell_type": "code",
   "execution_count": 1,
   "id": "86ec3b50",
   "metadata": {},
   "outputs": [
    {
     "name": "stdout",
     "output_type": "stream",
     "text": [
      "Requirement already satisfied: numpy==1.24 in d:\\downloads\\python 3.10.0\\lib\\site-packages (1.24.0)\n",
      "Note: you may need to restart the kernel to use updated packages.\n"
     ]
    }
   ],
   "source": [
    "%pip install numpy==1.24"
   ]
  },
  {
   "cell_type": "code",
   "execution_count": 2,
   "id": "066980c7",
   "metadata": {},
   "outputs": [
    {
     "name": "stdout",
     "output_type": "stream",
     "text": [
      "Requirement already satisfied: pandas in d:\\downloads\\python 3.10.0\\lib\\site-packages (1.3.4)\n",
      "Requirement already satisfied: python-dateutil>=2.7.3 in d:\\downloads\\python 3.10.0\\lib\\site-packages (from pandas) (2.8.2)\n",
      "Requirement already satisfied: pytz>=2017.3 in d:\\downloads\\python 3.10.0\\lib\\site-packages (from pandas) (2021.3)\n",
      "Requirement already satisfied: numpy>=1.21.0 in d:\\downloads\\python 3.10.0\\lib\\site-packages (from pandas) (1.24.0)\n",
      "Requirement already satisfied: six>=1.5 in d:\\downloads\\python 3.10.0\\lib\\site-packages (from python-dateutil>=2.7.3->pandas) (1.16.0)\n",
      "Note: you may need to restart the kernel to use updated packages.\n"
     ]
    }
   ],
   "source": [
    "%pip install pandas"
   ]
  },
  {
   "cell_type": "code",
   "execution_count": 3,
   "id": "02948f30",
   "metadata": {},
   "outputs": [],
   "source": [
    "import pandas as pd\n",
    "import numpy as np"
   ]
  },
  {
   "cell_type": "markdown",
   "id": "d70aa944",
   "metadata": {},
   "source": [
    "## Data Collection"
   ]
  },
  {
   "cell_type": "code",
   "execution_count": 4,
   "id": "fc4f8826",
   "metadata": {},
   "outputs": [],
   "source": [
    "data = pd.read_csv(\"features.csv\")"
   ]
  },
  {
   "cell_type": "code",
   "execution_count": 5,
   "id": "f880caf3",
   "metadata": {},
   "outputs": [
    {
     "data": {
      "text/html": [
       "<div>\n",
       "<style scoped>\n",
       "    .dataframe tbody tr th:only-of-type {\n",
       "        vertical-align: middle;\n",
       "    }\n",
       "\n",
       "    .dataframe tbody tr th {\n",
       "        vertical-align: top;\n",
       "    }\n",
       "\n",
       "    .dataframe thead th {\n",
       "        text-align: right;\n",
       "    }\n",
       "</style>\n",
       "<table border=\"1\" class=\"dataframe\">\n",
       "  <thead>\n",
       "    <tr style=\"text-align: right;\">\n",
       "      <th></th>\n",
       "      <th>meanfreq</th>\n",
       "      <th>sd</th>\n",
       "      <th>median</th>\n",
       "      <th>Q25</th>\n",
       "      <th>Q75</th>\n",
       "      <th>IQR</th>\n",
       "      <th>skew</th>\n",
       "      <th>kurt</th>\n",
       "      <th>spent</th>\n",
       "      <th>sfm</th>\n",
       "      <th>...</th>\n",
       "      <th>centroid</th>\n",
       "      <th>meanfun</th>\n",
       "      <th>minfun</th>\n",
       "      <th>maxfun</th>\n",
       "      <th>meandom</th>\n",
       "      <th>mindom</th>\n",
       "      <th>maxdom</th>\n",
       "      <th>dfrange</th>\n",
       "      <th>modindx</th>\n",
       "      <th>labels</th>\n",
       "    </tr>\n",
       "  </thead>\n",
       "  <tbody>\n",
       "    <tr>\n",
       "      <th>0</th>\n",
       "      <td>-637.701233</td>\n",
       "      <td>104.299019</td>\n",
       "      <td>4.894947</td>\n",
       "      <td>20.494011</td>\n",
       "      <td>12.552954</td>\n",
       "      <td>2.851410</td>\n",
       "      <td>-6.633390</td>\n",
       "      <td>-4.091278</td>\n",
       "      <td>-10.423918</td>\n",
       "      <td>-6.406950</td>\n",
       "      <td>...</td>\n",
       "      <td>0.172893</td>\n",
       "      <td>-1.170210</td>\n",
       "      <td>-5.292450</td>\n",
       "      <td>-0.573319</td>\n",
       "      <td>1.019471</td>\n",
       "      <td>-3.492607</td>\n",
       "      <td>-3.468123</td>\n",
       "      <td>-1.214944</td>\n",
       "      <td>1.971239</td>\n",
       "      <td>male_calm</td>\n",
       "    </tr>\n",
       "    <tr>\n",
       "      <th>1</th>\n",
       "      <td>-596.908460</td>\n",
       "      <td>86.871936</td>\n",
       "      <td>9.470162</td>\n",
       "      <td>17.109819</td>\n",
       "      <td>11.198966</td>\n",
       "      <td>1.541056</td>\n",
       "      <td>-6.677264</td>\n",
       "      <td>-5.755428</td>\n",
       "      <td>-9.684472</td>\n",
       "      <td>-6.891256</td>\n",
       "      <td>...</td>\n",
       "      <td>0.033803</td>\n",
       "      <td>-1.986515</td>\n",
       "      <td>-5.103855</td>\n",
       "      <td>-1.253110</td>\n",
       "      <td>0.514896</td>\n",
       "      <td>-3.268317</td>\n",
       "      <td>-4.502895</td>\n",
       "      <td>0.167153</td>\n",
       "      <td>0.256732</td>\n",
       "      <td>male_calm</td>\n",
       "    </tr>\n",
       "    <tr>\n",
       "      <th>2</th>\n",
       "      <td>-698.086548</td>\n",
       "      <td>99.795929</td>\n",
       "      <td>1.892679</td>\n",
       "      <td>19.915264</td>\n",
       "      <td>7.532868</td>\n",
       "      <td>1.265761</td>\n",
       "      <td>-9.188656</td>\n",
       "      <td>-5.798194</td>\n",
       "      <td>-12.299710</td>\n",
       "      <td>-4.976400</td>\n",
       "      <td>...</td>\n",
       "      <td>-1.639542</td>\n",
       "      <td>-2.603761</td>\n",
       "      <td>-4.890347</td>\n",
       "      <td>-0.879222</td>\n",
       "      <td>-1.250208</td>\n",
       "      <td>-3.449960</td>\n",
       "      <td>-4.708529</td>\n",
       "      <td>-0.086224</td>\n",
       "      <td>-3.034044</td>\n",
       "      <td>male_calm</td>\n",
       "    </tr>\n",
       "    <tr>\n",
       "      <th>3</th>\n",
       "      <td>-279.141052</td>\n",
       "      <td>41.092949</td>\n",
       "      <td>-21.319229</td>\n",
       "      <td>7.802911</td>\n",
       "      <td>-13.140503</td>\n",
       "      <td>-9.407660</td>\n",
       "      <td>-15.580647</td>\n",
       "      <td>-6.097223</td>\n",
       "      <td>-24.700903</td>\n",
       "      <td>-9.640293</td>\n",
       "      <td>...</td>\n",
       "      <td>-10.305976</td>\n",
       "      <td>-4.092835</td>\n",
       "      <td>-5.817179</td>\n",
       "      <td>-10.731523</td>\n",
       "      <td>-0.823596</td>\n",
       "      <td>-15.885103</td>\n",
       "      <td>-2.014258</td>\n",
       "      <td>-6.173852</td>\n",
       "      <td>-5.331760</td>\n",
       "      <td>male_angry</td>\n",
       "    </tr>\n",
       "    <tr>\n",
       "      <th>4</th>\n",
       "      <td>-160.074686</td>\n",
       "      <td>17.576058</td>\n",
       "      <td>-2.147436</td>\n",
       "      <td>3.133417</td>\n",
       "      <td>-4.745002</td>\n",
       "      <td>-6.510771</td>\n",
       "      <td>-5.911591</td>\n",
       "      <td>-4.481506</td>\n",
       "      <td>-9.470598</td>\n",
       "      <td>-5.907823</td>\n",
       "      <td>...</td>\n",
       "      <td>-4.088007</td>\n",
       "      <td>-1.817639</td>\n",
       "      <td>-2.994765</td>\n",
       "      <td>-4.893176</td>\n",
       "      <td>-2.880436</td>\n",
       "      <td>-7.163400</td>\n",
       "      <td>-2.147345</td>\n",
       "      <td>-2.359248</td>\n",
       "      <td>-3.746217</td>\n",
       "      <td>male_angry</td>\n",
       "    </tr>\n",
       "  </tbody>\n",
       "</table>\n",
       "<p>5 rows × 21 columns</p>\n",
       "</div>"
      ],
      "text/plain": [
       "     meanfreq          sd     median        Q25        Q75       IQR  \\\n",
       "0 -637.701233  104.299019   4.894947  20.494011  12.552954  2.851410   \n",
       "1 -596.908460   86.871936   9.470162  17.109819  11.198966  1.541056   \n",
       "2 -698.086548   99.795929   1.892679  19.915264   7.532868  1.265761   \n",
       "3 -279.141052   41.092949 -21.319229   7.802911 -13.140503 -9.407660   \n",
       "4 -160.074686   17.576058  -2.147436   3.133417  -4.745002 -6.510771   \n",
       "\n",
       "        skew      kurt      spent       sfm  ...   centroid   meanfun  \\\n",
       "0  -6.633390 -4.091278 -10.423918 -6.406950  ...   0.172893 -1.170210   \n",
       "1  -6.677264 -5.755428  -9.684472 -6.891256  ...   0.033803 -1.986515   \n",
       "2  -9.188656 -5.798194 -12.299710 -4.976400  ...  -1.639542 -2.603761   \n",
       "3 -15.580647 -6.097223 -24.700903 -9.640293  ... -10.305976 -4.092835   \n",
       "4  -5.911591 -4.481506  -9.470598 -5.907823  ...  -4.088007 -1.817639   \n",
       "\n",
       "     minfun     maxfun   meandom     mindom    maxdom   dfrange   modindx  \\\n",
       "0 -5.292450  -0.573319  1.019471  -3.492607 -3.468123 -1.214944  1.971239   \n",
       "1 -5.103855  -1.253110  0.514896  -3.268317 -4.502895  0.167153  0.256732   \n",
       "2 -4.890347  -0.879222 -1.250208  -3.449960 -4.708529 -0.086224 -3.034044   \n",
       "3 -5.817179 -10.731523 -0.823596 -15.885103 -2.014258 -6.173852 -5.331760   \n",
       "4 -2.994765  -4.893176 -2.880436  -7.163400 -2.147345 -2.359248 -3.746217   \n",
       "\n",
       "       labels  \n",
       "0   male_calm  \n",
       "1   male_calm  \n",
       "2   male_calm  \n",
       "3  male_angry  \n",
       "4  male_angry  \n",
       "\n",
       "[5 rows x 21 columns]"
      ]
     },
     "execution_count": 5,
     "metadata": {},
     "output_type": "execute_result"
    }
   ],
   "source": [
    "data.head()"
   ]
  },
  {
   "cell_type": "code",
   "execution_count": 6,
   "id": "e1958701",
   "metadata": {},
   "outputs": [
    {
     "data": {
      "text/html": [
       "<div>\n",
       "<style scoped>\n",
       "    .dataframe tbody tr th:only-of-type {\n",
       "        vertical-align: middle;\n",
       "    }\n",
       "\n",
       "    .dataframe tbody tr th {\n",
       "        vertical-align: top;\n",
       "    }\n",
       "\n",
       "    .dataframe thead th {\n",
       "        text-align: right;\n",
       "    }\n",
       "</style>\n",
       "<table border=\"1\" class=\"dataframe\">\n",
       "  <thead>\n",
       "    <tr style=\"text-align: right;\">\n",
       "      <th></th>\n",
       "      <th>count</th>\n",
       "      <th>mean</th>\n",
       "      <th>std</th>\n",
       "      <th>min</th>\n",
       "      <th>25%</th>\n",
       "      <th>50%</th>\n",
       "      <th>75%</th>\n",
       "      <th>max</th>\n",
       "    </tr>\n",
       "  </thead>\n",
       "  <tbody>\n",
       "    <tr>\n",
       "      <th>meanfreq</th>\n",
       "      <td>4320.0</td>\n",
       "      <td>-487.003996</td>\n",
       "      <td>136.291809</td>\n",
       "      <td>-839.943481</td>\n",
       "      <td>-584.871048</td>\n",
       "      <td>-493.733840</td>\n",
       "      <td>-392.564923</td>\n",
       "      <td>-81.179808</td>\n",
       "    </tr>\n",
       "    <tr>\n",
       "      <th>sd</th>\n",
       "      <td>4320.0</td>\n",
       "      <td>52.347325</td>\n",
       "      <td>23.301751</td>\n",
       "      <td>-15.569962</td>\n",
       "      <td>32.756441</td>\n",
       "      <td>52.938862</td>\n",
       "      <td>69.891104</td>\n",
       "      <td>117.403458</td>\n",
       "    </tr>\n",
       "    <tr>\n",
       "      <th>median</th>\n",
       "      <td>4320.0</td>\n",
       "      <td>-6.899311</td>\n",
       "      <td>16.316507</td>\n",
       "      <td>-79.263588</td>\n",
       "      <td>-16.253773</td>\n",
       "      <td>-4.516660</td>\n",
       "      <td>4.681348</td>\n",
       "      <td>30.102003</td>\n",
       "    </tr>\n",
       "    <tr>\n",
       "      <th>Q25</th>\n",
       "      <td>4320.0</td>\n",
       "      <td>7.564491</td>\n",
       "      <td>9.501292</td>\n",
       "      <td>-36.626686</td>\n",
       "      <td>1.014772</td>\n",
       "      <td>6.905284</td>\n",
       "      <td>13.967491</td>\n",
       "      <td>38.804756</td>\n",
       "    </tr>\n",
       "    <tr>\n",
       "      <th>Q75</th>\n",
       "      <td>4320.0</td>\n",
       "      <td>-2.946746</td>\n",
       "      <td>9.863238</td>\n",
       "      <td>-42.949089</td>\n",
       "      <td>-8.933470</td>\n",
       "      <td>-2.113036</td>\n",
       "      <td>3.681489</td>\n",
       "      <td>25.467150</td>\n",
       "    </tr>\n",
       "    <tr>\n",
       "      <th>IQR</th>\n",
       "      <td>4320.0</td>\n",
       "      <td>-7.424758</td>\n",
       "      <td>8.204065</td>\n",
       "      <td>-41.675949</td>\n",
       "      <td>-12.121491</td>\n",
       "      <td>-6.581761</td>\n",
       "      <td>-2.204921</td>\n",
       "      <td>19.140991</td>\n",
       "    </tr>\n",
       "    <tr>\n",
       "      <th>skew</th>\n",
       "      <td>4320.0</td>\n",
       "      <td>-9.849076</td>\n",
       "      <td>7.280637</td>\n",
       "      <td>-34.720089</td>\n",
       "      <td>-14.668655</td>\n",
       "      <td>-9.012351</td>\n",
       "      <td>-4.521343</td>\n",
       "      <td>11.820717</td>\n",
       "    </tr>\n",
       "    <tr>\n",
       "      <th>kurt</th>\n",
       "      <td>4320.0</td>\n",
       "      <td>-11.586352</td>\n",
       "      <td>6.673772</td>\n",
       "      <td>-36.939785</td>\n",
       "      <td>-16.202100</td>\n",
       "      <td>-10.471962</td>\n",
       "      <td>-6.650337</td>\n",
       "      <td>8.074190</td>\n",
       "    </tr>\n",
       "    <tr>\n",
       "      <th>spent</th>\n",
       "      <td>4320.0</td>\n",
       "      <td>-10.100073</td>\n",
       "      <td>5.833754</td>\n",
       "      <td>-38.967739</td>\n",
       "      <td>-13.316231</td>\n",
       "      <td>-9.068425</td>\n",
       "      <td>-6.205477</td>\n",
       "      <td>9.730897</td>\n",
       "    </tr>\n",
       "    <tr>\n",
       "      <th>sfm</th>\n",
       "      <td>4320.0</td>\n",
       "      <td>-3.638752</td>\n",
       "      <td>4.520046</td>\n",
       "      <td>-26.159826</td>\n",
       "      <td>-6.156888</td>\n",
       "      <td>-3.794484</td>\n",
       "      <td>-1.066079</td>\n",
       "      <td>37.959518</td>\n",
       "    </tr>\n",
       "    <tr>\n",
       "      <th>mode</th>\n",
       "      <td>4320.0</td>\n",
       "      <td>-5.807958</td>\n",
       "      <td>5.417574</td>\n",
       "      <td>-27.686792</td>\n",
       "      <td>-9.150106</td>\n",
       "      <td>-5.060977</td>\n",
       "      <td>-2.061111</td>\n",
       "      <td>18.067278</td>\n",
       "    </tr>\n",
       "    <tr>\n",
       "      <th>centroid</th>\n",
       "      <td>4320.0</td>\n",
       "      <td>-4.567466</td>\n",
       "      <td>5.070388</td>\n",
       "      <td>-21.640957</td>\n",
       "      <td>-7.382749</td>\n",
       "      <td>-4.551472</td>\n",
       "      <td>-2.082103</td>\n",
       "      <td>36.947395</td>\n",
       "    </tr>\n",
       "    <tr>\n",
       "      <th>meanfun</th>\n",
       "      <td>4320.0</td>\n",
       "      <td>-3.947209</td>\n",
       "      <td>5.009874</td>\n",
       "      <td>-20.524252</td>\n",
       "      <td>-6.599181</td>\n",
       "      <td>-3.945222</td>\n",
       "      <td>-1.540308</td>\n",
       "      <td>24.929777</td>\n",
       "    </tr>\n",
       "    <tr>\n",
       "      <th>minfun</th>\n",
       "      <td>4320.0</td>\n",
       "      <td>-2.485872</td>\n",
       "      <td>4.847411</td>\n",
       "      <td>-16.081615</td>\n",
       "      <td>-4.949420</td>\n",
       "      <td>-2.646049</td>\n",
       "      <td>-0.693039</td>\n",
       "      <td>30.235439</td>\n",
       "    </tr>\n",
       "    <tr>\n",
       "      <th>maxfun</th>\n",
       "      <td>4320.0</td>\n",
       "      <td>-4.062918</td>\n",
       "      <td>4.632436</td>\n",
       "      <td>-22.202007</td>\n",
       "      <td>-6.661108</td>\n",
       "      <td>-3.902600</td>\n",
       "      <td>-1.761730</td>\n",
       "      <td>22.374475</td>\n",
       "    </tr>\n",
       "    <tr>\n",
       "      <th>meandom</th>\n",
       "      <td>4320.0</td>\n",
       "      <td>-2.719003</td>\n",
       "      <td>4.735602</td>\n",
       "      <td>-18.356224</td>\n",
       "      <td>-5.505311</td>\n",
       "      <td>-2.696677</td>\n",
       "      <td>-0.143019</td>\n",
       "      <td>19.874605</td>\n",
       "    </tr>\n",
       "    <tr>\n",
       "      <th>mindom</th>\n",
       "      <td>4320.0</td>\n",
       "      <td>-5.020789</td>\n",
       "      <td>4.592718</td>\n",
       "      <td>-20.365015</td>\n",
       "      <td>-7.809510</td>\n",
       "      <td>-5.225021</td>\n",
       "      <td>-2.885300</td>\n",
       "      <td>21.650705</td>\n",
       "    </tr>\n",
       "    <tr>\n",
       "      <th>maxdom</th>\n",
       "      <td>4320.0</td>\n",
       "      <td>-1.440525</td>\n",
       "      <td>4.328955</td>\n",
       "      <td>-12.859852</td>\n",
       "      <td>-3.992642</td>\n",
       "      <td>-2.131910</td>\n",
       "      <td>0.195690</td>\n",
       "      <td>30.602156</td>\n",
       "    </tr>\n",
       "    <tr>\n",
       "      <th>dfrange</th>\n",
       "      <td>4320.0</td>\n",
       "      <td>-3.130414</td>\n",
       "      <td>4.453416</td>\n",
       "      <td>-19.294554</td>\n",
       "      <td>-5.976570</td>\n",
       "      <td>-3.135440</td>\n",
       "      <td>-0.769286</td>\n",
       "      <td>28.858099</td>\n",
       "    </tr>\n",
       "    <tr>\n",
       "      <th>modindx</th>\n",
       "      <td>4320.0</td>\n",
       "      <td>-1.334857</td>\n",
       "      <td>4.703890</td>\n",
       "      <td>-15.443363</td>\n",
       "      <td>-4.327436</td>\n",
       "      <td>-2.038620</td>\n",
       "      <td>0.890885</td>\n",
       "      <td>31.922178</td>\n",
       "    </tr>\n",
       "  </tbody>\n",
       "</table>\n",
       "</div>"
      ],
      "text/plain": [
       "           count        mean         std         min         25%         50%  \\\n",
       "meanfreq  4320.0 -487.003996  136.291809 -839.943481 -584.871048 -493.733840   \n",
       "sd        4320.0   52.347325   23.301751  -15.569962   32.756441   52.938862   \n",
       "median    4320.0   -6.899311   16.316507  -79.263588  -16.253773   -4.516660   \n",
       "Q25       4320.0    7.564491    9.501292  -36.626686    1.014772    6.905284   \n",
       "Q75       4320.0   -2.946746    9.863238  -42.949089   -8.933470   -2.113036   \n",
       "IQR       4320.0   -7.424758    8.204065  -41.675949  -12.121491   -6.581761   \n",
       "skew      4320.0   -9.849076    7.280637  -34.720089  -14.668655   -9.012351   \n",
       "kurt      4320.0  -11.586352    6.673772  -36.939785  -16.202100  -10.471962   \n",
       "spent     4320.0  -10.100073    5.833754  -38.967739  -13.316231   -9.068425   \n",
       "sfm       4320.0   -3.638752    4.520046  -26.159826   -6.156888   -3.794484   \n",
       "mode      4320.0   -5.807958    5.417574  -27.686792   -9.150106   -5.060977   \n",
       "centroid  4320.0   -4.567466    5.070388  -21.640957   -7.382749   -4.551472   \n",
       "meanfun   4320.0   -3.947209    5.009874  -20.524252   -6.599181   -3.945222   \n",
       "minfun    4320.0   -2.485872    4.847411  -16.081615   -4.949420   -2.646049   \n",
       "maxfun    4320.0   -4.062918    4.632436  -22.202007   -6.661108   -3.902600   \n",
       "meandom   4320.0   -2.719003    4.735602  -18.356224   -5.505311   -2.696677   \n",
       "mindom    4320.0   -5.020789    4.592718  -20.365015   -7.809510   -5.225021   \n",
       "maxdom    4320.0   -1.440525    4.328955  -12.859852   -3.992642   -2.131910   \n",
       "dfrange   4320.0   -3.130414    4.453416  -19.294554   -5.976570   -3.135440   \n",
       "modindx   4320.0   -1.334857    4.703890  -15.443363   -4.327436   -2.038620   \n",
       "\n",
       "                 75%         max  \n",
       "meanfreq -392.564923  -81.179808  \n",
       "sd         69.891104  117.403458  \n",
       "median      4.681348   30.102003  \n",
       "Q25        13.967491   38.804756  \n",
       "Q75         3.681489   25.467150  \n",
       "IQR        -2.204921   19.140991  \n",
       "skew       -4.521343   11.820717  \n",
       "kurt       -6.650337    8.074190  \n",
       "spent      -6.205477    9.730897  \n",
       "sfm        -1.066079   37.959518  \n",
       "mode       -2.061111   18.067278  \n",
       "centroid   -2.082103   36.947395  \n",
       "meanfun    -1.540308   24.929777  \n",
       "minfun     -0.693039   30.235439  \n",
       "maxfun     -1.761730   22.374475  \n",
       "meandom    -0.143019   19.874605  \n",
       "mindom     -2.885300   21.650705  \n",
       "maxdom      0.195690   30.602156  \n",
       "dfrange    -0.769286   28.858099  \n",
       "modindx     0.890885   31.922178  "
      ]
     },
     "execution_count": 6,
     "metadata": {},
     "output_type": "execute_result"
    }
   ],
   "source": [
    "data.describe().T"
   ]
  },
  {
   "cell_type": "markdown",
   "id": "31df0653",
   "metadata": {},
   "source": [
    "## Selecting only Male Voices"
   ]
  },
  {
   "cell_type": "code",
   "execution_count": 7,
   "id": "38a22d8e",
   "metadata": {},
   "outputs": [],
   "source": [
    "lst = ['angry', 'fear', 'calm', 'happy', 'sad']\n",
    "data1 = pd.DataFrame()\n",
    "for i in lst:\n",
    "    data2 = data[data['labels'] == 'male_'+i]\n",
    "    data1= pd.concat([data1, data2], ignore_index = True)"
   ]
  },
  {
   "cell_type": "code",
   "execution_count": 8,
   "id": "94718948",
   "metadata": {},
   "outputs": [],
   "source": [
    "label = np.array(data1['labels'])\n",
    "for i in range(len(label)):\n",
    "    label[i] = label[i].split('_')[1]\n",
    "label\n",
    "data1['labels'] = label"
   ]
  },
  {
   "cell_type": "code",
   "execution_count": 9,
   "id": "10614d35",
   "metadata": {},
   "outputs": [
    {
     "data": {
      "text/html": [
       "<div>\n",
       "<style scoped>\n",
       "    .dataframe tbody tr th:only-of-type {\n",
       "        vertical-align: middle;\n",
       "    }\n",
       "\n",
       "    .dataframe tbody tr th {\n",
       "        vertical-align: top;\n",
       "    }\n",
       "\n",
       "    .dataframe thead th {\n",
       "        text-align: right;\n",
       "    }\n",
       "</style>\n",
       "<table border=\"1\" class=\"dataframe\">\n",
       "  <thead>\n",
       "    <tr style=\"text-align: right;\">\n",
       "      <th></th>\n",
       "      <th>meanfreq</th>\n",
       "      <th>sd</th>\n",
       "      <th>median</th>\n",
       "      <th>Q25</th>\n",
       "      <th>Q75</th>\n",
       "      <th>IQR</th>\n",
       "      <th>skew</th>\n",
       "      <th>kurt</th>\n",
       "      <th>spent</th>\n",
       "      <th>sfm</th>\n",
       "      <th>...</th>\n",
       "      <th>centroid</th>\n",
       "      <th>meanfun</th>\n",
       "      <th>minfun</th>\n",
       "      <th>maxfun</th>\n",
       "      <th>meandom</th>\n",
       "      <th>mindom</th>\n",
       "      <th>maxdom</th>\n",
       "      <th>dfrange</th>\n",
       "      <th>modindx</th>\n",
       "      <th>labels</th>\n",
       "    </tr>\n",
       "  </thead>\n",
       "  <tbody>\n",
       "    <tr>\n",
       "      <th>0</th>\n",
       "      <td>-279.141052</td>\n",
       "      <td>41.092949</td>\n",
       "      <td>-21.319229</td>\n",
       "      <td>7.802911</td>\n",
       "      <td>-13.140503</td>\n",
       "      <td>-9.407660</td>\n",
       "      <td>-15.580647</td>\n",
       "      <td>-6.097223</td>\n",
       "      <td>-24.700903</td>\n",
       "      <td>-9.640293</td>\n",
       "      <td>...</td>\n",
       "      <td>-10.305976</td>\n",
       "      <td>-4.092835</td>\n",
       "      <td>-5.817179</td>\n",
       "      <td>-10.731523</td>\n",
       "      <td>-0.823596</td>\n",
       "      <td>-15.885103</td>\n",
       "      <td>-2.014258</td>\n",
       "      <td>-6.173852</td>\n",
       "      <td>-5.331760</td>\n",
       "      <td>angry</td>\n",
       "    </tr>\n",
       "    <tr>\n",
       "      <th>1</th>\n",
       "      <td>-160.074686</td>\n",
       "      <td>17.576058</td>\n",
       "      <td>-2.147436</td>\n",
       "      <td>3.133417</td>\n",
       "      <td>-4.745002</td>\n",
       "      <td>-6.510771</td>\n",
       "      <td>-5.911591</td>\n",
       "      <td>-4.481506</td>\n",
       "      <td>-9.470598</td>\n",
       "      <td>-5.907823</td>\n",
       "      <td>...</td>\n",
       "      <td>-4.088007</td>\n",
       "      <td>-1.817639</td>\n",
       "      <td>-2.994765</td>\n",
       "      <td>-4.893176</td>\n",
       "      <td>-2.880436</td>\n",
       "      <td>-7.163400</td>\n",
       "      <td>-2.147345</td>\n",
       "      <td>-2.359248</td>\n",
       "      <td>-3.746217</td>\n",
       "      <td>angry</td>\n",
       "    </tr>\n",
       "    <tr>\n",
       "      <th>2</th>\n",
       "      <td>-331.021576</td>\n",
       "      <td>39.745705</td>\n",
       "      <td>-22.860626</td>\n",
       "      <td>6.353040</td>\n",
       "      <td>-16.374424</td>\n",
       "      <td>-11.440884</td>\n",
       "      <td>-17.602816</td>\n",
       "      <td>-9.509995</td>\n",
       "      <td>-27.061333</td>\n",
       "      <td>-6.779751</td>\n",
       "      <td>...</td>\n",
       "      <td>-9.512968</td>\n",
       "      <td>-3.978928</td>\n",
       "      <td>-8.940723</td>\n",
       "      <td>-9.396315</td>\n",
       "      <td>-3.595846</td>\n",
       "      <td>-16.388462</td>\n",
       "      <td>1.839664</td>\n",
       "      <td>-6.579001</td>\n",
       "      <td>-1.339286</td>\n",
       "      <td>angry</td>\n",
       "    </tr>\n",
       "    <tr>\n",
       "      <th>3</th>\n",
       "      <td>-443.611084</td>\n",
       "      <td>66.393280</td>\n",
       "      <td>-4.908761</td>\n",
       "      <td>13.365289</td>\n",
       "      <td>-0.683898</td>\n",
       "      <td>-4.739338</td>\n",
       "      <td>-7.220382</td>\n",
       "      <td>-9.264338</td>\n",
       "      <td>-23.087978</td>\n",
       "      <td>-6.944154</td>\n",
       "      <td>...</td>\n",
       "      <td>-8.101152</td>\n",
       "      <td>-0.350776</td>\n",
       "      <td>-7.457047</td>\n",
       "      <td>-7.318939</td>\n",
       "      <td>1.527056</td>\n",
       "      <td>-14.205444</td>\n",
       "      <td>-1.777708</td>\n",
       "      <td>-3.192659</td>\n",
       "      <td>-6.974279</td>\n",
       "      <td>angry</td>\n",
       "    </tr>\n",
       "    <tr>\n",
       "      <th>4</th>\n",
       "      <td>-264.418128</td>\n",
       "      <td>21.537398</td>\n",
       "      <td>6.961810</td>\n",
       "      <td>5.909866</td>\n",
       "      <td>-1.439068</td>\n",
       "      <td>-2.780335</td>\n",
       "      <td>-2.981919</td>\n",
       "      <td>-6.778781</td>\n",
       "      <td>-10.135452</td>\n",
       "      <td>-5.730306</td>\n",
       "      <td>...</td>\n",
       "      <td>-2.728956</td>\n",
       "      <td>-1.569215</td>\n",
       "      <td>-2.639315</td>\n",
       "      <td>-2.652573</td>\n",
       "      <td>-0.214965</td>\n",
       "      <td>-5.719949</td>\n",
       "      <td>-1.584709</td>\n",
       "      <td>-0.551411</td>\n",
       "      <td>-3.866373</td>\n",
       "      <td>angry</td>\n",
       "    </tr>\n",
       "  </tbody>\n",
       "</table>\n",
       "<p>5 rows × 21 columns</p>\n",
       "</div>"
      ],
      "text/plain": [
       "     meanfreq         sd     median        Q25        Q75        IQR  \\\n",
       "0 -279.141052  41.092949 -21.319229   7.802911 -13.140503  -9.407660   \n",
       "1 -160.074686  17.576058  -2.147436   3.133417  -4.745002  -6.510771   \n",
       "2 -331.021576  39.745705 -22.860626   6.353040 -16.374424 -11.440884   \n",
       "3 -443.611084  66.393280  -4.908761  13.365289  -0.683898  -4.739338   \n",
       "4 -264.418128  21.537398   6.961810   5.909866  -1.439068  -2.780335   \n",
       "\n",
       "        skew      kurt      spent       sfm  ...   centroid   meanfun  \\\n",
       "0 -15.580647 -6.097223 -24.700903 -9.640293  ... -10.305976 -4.092835   \n",
       "1  -5.911591 -4.481506  -9.470598 -5.907823  ...  -4.088007 -1.817639   \n",
       "2 -17.602816 -9.509995 -27.061333 -6.779751  ...  -9.512968 -3.978928   \n",
       "3  -7.220382 -9.264338 -23.087978 -6.944154  ...  -8.101152 -0.350776   \n",
       "4  -2.981919 -6.778781 -10.135452 -5.730306  ...  -2.728956 -1.569215   \n",
       "\n",
       "     minfun     maxfun   meandom     mindom    maxdom   dfrange   modindx  \\\n",
       "0 -5.817179 -10.731523 -0.823596 -15.885103 -2.014258 -6.173852 -5.331760   \n",
       "1 -2.994765  -4.893176 -2.880436  -7.163400 -2.147345 -2.359248 -3.746217   \n",
       "2 -8.940723  -9.396315 -3.595846 -16.388462  1.839664 -6.579001 -1.339286   \n",
       "3 -7.457047  -7.318939  1.527056 -14.205444 -1.777708 -3.192659 -6.974279   \n",
       "4 -2.639315  -2.652573 -0.214965  -5.719949 -1.584709 -0.551411 -3.866373   \n",
       "\n",
       "   labels  \n",
       "0   angry  \n",
       "1   angry  \n",
       "2   angry  \n",
       "3   angry  \n",
       "4   angry  \n",
       "\n",
       "[5 rows x 21 columns]"
      ]
     },
     "execution_count": 9,
     "metadata": {},
     "output_type": "execute_result"
    }
   ],
   "source": [
    "data1.head()"
   ]
  },
  {
   "cell_type": "markdown",
   "id": "64b417da",
   "metadata": {},
   "source": [
    "## Preprocessing Of Dataset"
   ]
  },
  {
   "cell_type": "code",
   "execution_count": 10,
   "id": "f6304d07",
   "metadata": {},
   "outputs": [
    {
     "data": {
      "text/plain": [
       "False    1436\n",
       "True        4\n",
       "dtype: int64"
      ]
     },
     "execution_count": 10,
     "metadata": {},
     "output_type": "execute_result"
    }
   ],
   "source": [
    "is_duplicate = data1.duplicated(keep=False)\n",
    "is_duplicate.value_counts()"
   ]
  },
  {
   "cell_type": "code",
   "execution_count": 11,
   "id": "0ed2c802",
   "metadata": {},
   "outputs": [],
   "source": [
    "data1 = data1.drop_duplicates()"
   ]
  },
  {
   "cell_type": "code",
   "execution_count": 12,
   "id": "7583acbf",
   "metadata": {},
   "outputs": [
    {
     "data": {
      "text/plain": [
       "(1438, 21)"
      ]
     },
     "execution_count": 12,
     "metadata": {},
     "output_type": "execute_result"
    }
   ],
   "source": [
    "data1.shape"
   ]
  },
  {
   "cell_type": "code",
   "execution_count": 13,
   "id": "9412eb65",
   "metadata": {},
   "outputs": [
    {
     "data": {
      "text/plain": [
       "(1438, 21)"
      ]
     },
     "execution_count": 13,
     "metadata": {},
     "output_type": "execute_result"
    }
   ],
   "source": [
    "data1.shape"
   ]
  },
  {
   "cell_type": "code",
   "execution_count": 14,
   "id": "67a2005d",
   "metadata": {},
   "outputs": [],
   "source": [
    "data1['labels'] = data1['labels'].replace({'angry' : 0, 'fear' : 1, 'happy' : 2, 'sad' : 3, 'calm' : 4})"
   ]
  },
  {
   "cell_type": "code",
   "execution_count": 15,
   "id": "e39bac4e",
   "metadata": {},
   "outputs": [
    {
     "data": {
      "text/html": [
       "<div>\n",
       "<style scoped>\n",
       "    .dataframe tbody tr th:only-of-type {\n",
       "        vertical-align: middle;\n",
       "    }\n",
       "\n",
       "    .dataframe tbody tr th {\n",
       "        vertical-align: top;\n",
       "    }\n",
       "\n",
       "    .dataframe thead th {\n",
       "        text-align: right;\n",
       "    }\n",
       "</style>\n",
       "<table border=\"1\" class=\"dataframe\">\n",
       "  <thead>\n",
       "    <tr style=\"text-align: right;\">\n",
       "      <th></th>\n",
       "      <th>meanfreq</th>\n",
       "      <th>sd</th>\n",
       "      <th>median</th>\n",
       "      <th>Q25</th>\n",
       "      <th>Q75</th>\n",
       "      <th>IQR</th>\n",
       "      <th>skew</th>\n",
       "      <th>kurt</th>\n",
       "      <th>spent</th>\n",
       "      <th>sfm</th>\n",
       "      <th>...</th>\n",
       "      <th>centroid</th>\n",
       "      <th>meanfun</th>\n",
       "      <th>minfun</th>\n",
       "      <th>maxfun</th>\n",
       "      <th>meandom</th>\n",
       "      <th>mindom</th>\n",
       "      <th>maxdom</th>\n",
       "      <th>dfrange</th>\n",
       "      <th>modindx</th>\n",
       "      <th>labels</th>\n",
       "    </tr>\n",
       "  </thead>\n",
       "  <tbody>\n",
       "    <tr>\n",
       "      <th>0</th>\n",
       "      <td>-279.141052</td>\n",
       "      <td>41.092949</td>\n",
       "      <td>-21.319229</td>\n",
       "      <td>7.802911</td>\n",
       "      <td>-13.140503</td>\n",
       "      <td>-9.407660</td>\n",
       "      <td>-15.580647</td>\n",
       "      <td>-6.097223</td>\n",
       "      <td>-24.700903</td>\n",
       "      <td>-9.640293</td>\n",
       "      <td>...</td>\n",
       "      <td>-10.305976</td>\n",
       "      <td>-4.092835</td>\n",
       "      <td>-5.817179</td>\n",
       "      <td>-10.731523</td>\n",
       "      <td>-0.823596</td>\n",
       "      <td>-15.885103</td>\n",
       "      <td>-2.014258</td>\n",
       "      <td>-6.173852</td>\n",
       "      <td>-5.331760</td>\n",
       "      <td>0</td>\n",
       "    </tr>\n",
       "    <tr>\n",
       "      <th>1</th>\n",
       "      <td>-160.074686</td>\n",
       "      <td>17.576058</td>\n",
       "      <td>-2.147436</td>\n",
       "      <td>3.133417</td>\n",
       "      <td>-4.745002</td>\n",
       "      <td>-6.510771</td>\n",
       "      <td>-5.911591</td>\n",
       "      <td>-4.481506</td>\n",
       "      <td>-9.470598</td>\n",
       "      <td>-5.907823</td>\n",
       "      <td>...</td>\n",
       "      <td>-4.088007</td>\n",
       "      <td>-1.817639</td>\n",
       "      <td>-2.994765</td>\n",
       "      <td>-4.893176</td>\n",
       "      <td>-2.880436</td>\n",
       "      <td>-7.163400</td>\n",
       "      <td>-2.147345</td>\n",
       "      <td>-2.359248</td>\n",
       "      <td>-3.746217</td>\n",
       "      <td>0</td>\n",
       "    </tr>\n",
       "    <tr>\n",
       "      <th>2</th>\n",
       "      <td>-331.021576</td>\n",
       "      <td>39.745705</td>\n",
       "      <td>-22.860626</td>\n",
       "      <td>6.353040</td>\n",
       "      <td>-16.374424</td>\n",
       "      <td>-11.440884</td>\n",
       "      <td>-17.602816</td>\n",
       "      <td>-9.509995</td>\n",
       "      <td>-27.061333</td>\n",
       "      <td>-6.779751</td>\n",
       "      <td>...</td>\n",
       "      <td>-9.512968</td>\n",
       "      <td>-3.978928</td>\n",
       "      <td>-8.940723</td>\n",
       "      <td>-9.396315</td>\n",
       "      <td>-3.595846</td>\n",
       "      <td>-16.388462</td>\n",
       "      <td>1.839664</td>\n",
       "      <td>-6.579001</td>\n",
       "      <td>-1.339286</td>\n",
       "      <td>0</td>\n",
       "    </tr>\n",
       "    <tr>\n",
       "      <th>3</th>\n",
       "      <td>-443.611084</td>\n",
       "      <td>66.393280</td>\n",
       "      <td>-4.908761</td>\n",
       "      <td>13.365289</td>\n",
       "      <td>-0.683898</td>\n",
       "      <td>-4.739338</td>\n",
       "      <td>-7.220382</td>\n",
       "      <td>-9.264338</td>\n",
       "      <td>-23.087978</td>\n",
       "      <td>-6.944154</td>\n",
       "      <td>...</td>\n",
       "      <td>-8.101152</td>\n",
       "      <td>-0.350776</td>\n",
       "      <td>-7.457047</td>\n",
       "      <td>-7.318939</td>\n",
       "      <td>1.527056</td>\n",
       "      <td>-14.205444</td>\n",
       "      <td>-1.777708</td>\n",
       "      <td>-3.192659</td>\n",
       "      <td>-6.974279</td>\n",
       "      <td>0</td>\n",
       "    </tr>\n",
       "    <tr>\n",
       "      <th>4</th>\n",
       "      <td>-264.418128</td>\n",
       "      <td>21.537398</td>\n",
       "      <td>6.961810</td>\n",
       "      <td>5.909866</td>\n",
       "      <td>-1.439068</td>\n",
       "      <td>-2.780335</td>\n",
       "      <td>-2.981919</td>\n",
       "      <td>-6.778781</td>\n",
       "      <td>-10.135452</td>\n",
       "      <td>-5.730306</td>\n",
       "      <td>...</td>\n",
       "      <td>-2.728956</td>\n",
       "      <td>-1.569215</td>\n",
       "      <td>-2.639315</td>\n",
       "      <td>-2.652573</td>\n",
       "      <td>-0.214965</td>\n",
       "      <td>-5.719949</td>\n",
       "      <td>-1.584709</td>\n",
       "      <td>-0.551411</td>\n",
       "      <td>-3.866373</td>\n",
       "      <td>0</td>\n",
       "    </tr>\n",
       "  </tbody>\n",
       "</table>\n",
       "<p>5 rows × 21 columns</p>\n",
       "</div>"
      ],
      "text/plain": [
       "     meanfreq         sd     median        Q25        Q75        IQR  \\\n",
       "0 -279.141052  41.092949 -21.319229   7.802911 -13.140503  -9.407660   \n",
       "1 -160.074686  17.576058  -2.147436   3.133417  -4.745002  -6.510771   \n",
       "2 -331.021576  39.745705 -22.860626   6.353040 -16.374424 -11.440884   \n",
       "3 -443.611084  66.393280  -4.908761  13.365289  -0.683898  -4.739338   \n",
       "4 -264.418128  21.537398   6.961810   5.909866  -1.439068  -2.780335   \n",
       "\n",
       "        skew      kurt      spent       sfm  ...   centroid   meanfun  \\\n",
       "0 -15.580647 -6.097223 -24.700903 -9.640293  ... -10.305976 -4.092835   \n",
       "1  -5.911591 -4.481506  -9.470598 -5.907823  ...  -4.088007 -1.817639   \n",
       "2 -17.602816 -9.509995 -27.061333 -6.779751  ...  -9.512968 -3.978928   \n",
       "3  -7.220382 -9.264338 -23.087978 -6.944154  ...  -8.101152 -0.350776   \n",
       "4  -2.981919 -6.778781 -10.135452 -5.730306  ...  -2.728956 -1.569215   \n",
       "\n",
       "     minfun     maxfun   meandom     mindom    maxdom   dfrange   modindx  \\\n",
       "0 -5.817179 -10.731523 -0.823596 -15.885103 -2.014258 -6.173852 -5.331760   \n",
       "1 -2.994765  -4.893176 -2.880436  -7.163400 -2.147345 -2.359248 -3.746217   \n",
       "2 -8.940723  -9.396315 -3.595846 -16.388462  1.839664 -6.579001 -1.339286   \n",
       "3 -7.457047  -7.318939  1.527056 -14.205444 -1.777708 -3.192659 -6.974279   \n",
       "4 -2.639315  -2.652573 -0.214965  -5.719949 -1.584709 -0.551411 -3.866373   \n",
       "\n",
       "   labels  \n",
       "0       0  \n",
       "1       0  \n",
       "2       0  \n",
       "3       0  \n",
       "4       0  \n",
       "\n",
       "[5 rows x 21 columns]"
      ]
     },
     "execution_count": 15,
     "metadata": {},
     "output_type": "execute_result"
    }
   ],
   "source": [
    "data1.head()"
   ]
  },
  {
   "cell_type": "code",
   "execution_count": 16,
   "id": "ff3c987b",
   "metadata": {},
   "outputs": [],
   "source": [
    "x_data = data1.drop(columns = 'labels', axis = 1)"
   ]
  },
  {
   "cell_type": "code",
   "execution_count": 17,
   "id": "cd286fbd",
   "metadata": {},
   "outputs": [],
   "source": [
    "y_data = data1['labels']"
   ]
  },
  {
   "cell_type": "code",
   "execution_count": 18,
   "id": "bed0543b",
   "metadata": {},
   "outputs": [
    {
     "data": {
      "text/html": [
       "<div>\n",
       "<style scoped>\n",
       "    .dataframe tbody tr th:only-of-type {\n",
       "        vertical-align: middle;\n",
       "    }\n",
       "\n",
       "    .dataframe tbody tr th {\n",
       "        vertical-align: top;\n",
       "    }\n",
       "\n",
       "    .dataframe thead th {\n",
       "        text-align: right;\n",
       "    }\n",
       "</style>\n",
       "<table border=\"1\" class=\"dataframe\">\n",
       "  <thead>\n",
       "    <tr style=\"text-align: right;\">\n",
       "      <th></th>\n",
       "      <th>meanfreq</th>\n",
       "      <th>sd</th>\n",
       "      <th>median</th>\n",
       "      <th>Q25</th>\n",
       "      <th>Q75</th>\n",
       "      <th>IQR</th>\n",
       "      <th>skew</th>\n",
       "      <th>kurt</th>\n",
       "      <th>spent</th>\n",
       "      <th>sfm</th>\n",
       "      <th>mode</th>\n",
       "      <th>centroid</th>\n",
       "      <th>meanfun</th>\n",
       "      <th>minfun</th>\n",
       "      <th>maxfun</th>\n",
       "      <th>meandom</th>\n",
       "      <th>mindom</th>\n",
       "      <th>maxdom</th>\n",
       "      <th>dfrange</th>\n",
       "      <th>modindx</th>\n",
       "    </tr>\n",
       "  </thead>\n",
       "  <tbody>\n",
       "    <tr>\n",
       "      <th>0</th>\n",
       "      <td>-279.141052</td>\n",
       "      <td>41.092949</td>\n",
       "      <td>-21.319229</td>\n",
       "      <td>7.802911</td>\n",
       "      <td>-13.140503</td>\n",
       "      <td>-9.407660</td>\n",
       "      <td>-15.580647</td>\n",
       "      <td>-6.097223</td>\n",
       "      <td>-24.700903</td>\n",
       "      <td>-9.640293</td>\n",
       "      <td>-5.937896</td>\n",
       "      <td>-10.305976</td>\n",
       "      <td>-4.092835</td>\n",
       "      <td>-5.817179</td>\n",
       "      <td>-10.731523</td>\n",
       "      <td>-0.823596</td>\n",
       "      <td>-15.885103</td>\n",
       "      <td>-2.014258</td>\n",
       "      <td>-6.173852</td>\n",
       "      <td>-5.331760</td>\n",
       "    </tr>\n",
       "    <tr>\n",
       "      <th>1</th>\n",
       "      <td>-160.074686</td>\n",
       "      <td>17.576058</td>\n",
       "      <td>-2.147436</td>\n",
       "      <td>3.133417</td>\n",
       "      <td>-4.745002</td>\n",
       "      <td>-6.510771</td>\n",
       "      <td>-5.911591</td>\n",
       "      <td>-4.481506</td>\n",
       "      <td>-9.470598</td>\n",
       "      <td>-5.907823</td>\n",
       "      <td>-2.864403</td>\n",
       "      <td>-4.088007</td>\n",
       "      <td>-1.817639</td>\n",
       "      <td>-2.994765</td>\n",
       "      <td>-4.893176</td>\n",
       "      <td>-2.880436</td>\n",
       "      <td>-7.163400</td>\n",
       "      <td>-2.147345</td>\n",
       "      <td>-2.359248</td>\n",
       "      <td>-3.746217</td>\n",
       "    </tr>\n",
       "    <tr>\n",
       "      <th>2</th>\n",
       "      <td>-331.021576</td>\n",
       "      <td>39.745705</td>\n",
       "      <td>-22.860626</td>\n",
       "      <td>6.353040</td>\n",
       "      <td>-16.374424</td>\n",
       "      <td>-11.440884</td>\n",
       "      <td>-17.602816</td>\n",
       "      <td>-9.509995</td>\n",
       "      <td>-27.061333</td>\n",
       "      <td>-6.779751</td>\n",
       "      <td>-7.736475</td>\n",
       "      <td>-9.512968</td>\n",
       "      <td>-3.978928</td>\n",
       "      <td>-8.940723</td>\n",
       "      <td>-9.396315</td>\n",
       "      <td>-3.595846</td>\n",
       "      <td>-16.388462</td>\n",
       "      <td>1.839664</td>\n",
       "      <td>-6.579001</td>\n",
       "      <td>-1.339286</td>\n",
       "    </tr>\n",
       "    <tr>\n",
       "      <th>3</th>\n",
       "      <td>-443.611084</td>\n",
       "      <td>66.393280</td>\n",
       "      <td>-4.908761</td>\n",
       "      <td>13.365289</td>\n",
       "      <td>-0.683898</td>\n",
       "      <td>-4.739338</td>\n",
       "      <td>-7.220382</td>\n",
       "      <td>-9.264338</td>\n",
       "      <td>-23.087978</td>\n",
       "      <td>-6.944154</td>\n",
       "      <td>-4.376257</td>\n",
       "      <td>-8.101152</td>\n",
       "      <td>-0.350776</td>\n",
       "      <td>-7.457047</td>\n",
       "      <td>-7.318939</td>\n",
       "      <td>1.527056</td>\n",
       "      <td>-14.205444</td>\n",
       "      <td>-1.777708</td>\n",
       "      <td>-3.192659</td>\n",
       "      <td>-6.974279</td>\n",
       "    </tr>\n",
       "    <tr>\n",
       "      <th>4</th>\n",
       "      <td>-264.418128</td>\n",
       "      <td>21.537398</td>\n",
       "      <td>6.961810</td>\n",
       "      <td>5.909866</td>\n",
       "      <td>-1.439068</td>\n",
       "      <td>-2.780335</td>\n",
       "      <td>-2.981919</td>\n",
       "      <td>-6.778781</td>\n",
       "      <td>-10.135452</td>\n",
       "      <td>-5.730306</td>\n",
       "      <td>-2.622335</td>\n",
       "      <td>-2.728956</td>\n",
       "      <td>-1.569215</td>\n",
       "      <td>-2.639315</td>\n",
       "      <td>-2.652573</td>\n",
       "      <td>-0.214965</td>\n",
       "      <td>-5.719949</td>\n",
       "      <td>-1.584709</td>\n",
       "      <td>-0.551411</td>\n",
       "      <td>-3.866373</td>\n",
       "    </tr>\n",
       "  </tbody>\n",
       "</table>\n",
       "</div>"
      ],
      "text/plain": [
       "     meanfreq         sd     median        Q25        Q75        IQR  \\\n",
       "0 -279.141052  41.092949 -21.319229   7.802911 -13.140503  -9.407660   \n",
       "1 -160.074686  17.576058  -2.147436   3.133417  -4.745002  -6.510771   \n",
       "2 -331.021576  39.745705 -22.860626   6.353040 -16.374424 -11.440884   \n",
       "3 -443.611084  66.393280  -4.908761  13.365289  -0.683898  -4.739338   \n",
       "4 -264.418128  21.537398   6.961810   5.909866  -1.439068  -2.780335   \n",
       "\n",
       "        skew      kurt      spent       sfm      mode   centroid   meanfun  \\\n",
       "0 -15.580647 -6.097223 -24.700903 -9.640293 -5.937896 -10.305976 -4.092835   \n",
       "1  -5.911591 -4.481506  -9.470598 -5.907823 -2.864403  -4.088007 -1.817639   \n",
       "2 -17.602816 -9.509995 -27.061333 -6.779751 -7.736475  -9.512968 -3.978928   \n",
       "3  -7.220382 -9.264338 -23.087978 -6.944154 -4.376257  -8.101152 -0.350776   \n",
       "4  -2.981919 -6.778781 -10.135452 -5.730306 -2.622335  -2.728956 -1.569215   \n",
       "\n",
       "     minfun     maxfun   meandom     mindom    maxdom   dfrange   modindx  \n",
       "0 -5.817179 -10.731523 -0.823596 -15.885103 -2.014258 -6.173852 -5.331760  \n",
       "1 -2.994765  -4.893176 -2.880436  -7.163400 -2.147345 -2.359248 -3.746217  \n",
       "2 -8.940723  -9.396315 -3.595846 -16.388462  1.839664 -6.579001 -1.339286  \n",
       "3 -7.457047  -7.318939  1.527056 -14.205444 -1.777708 -3.192659 -6.974279  \n",
       "4 -2.639315  -2.652573 -0.214965  -5.719949 -1.584709 -0.551411 -3.866373  "
      ]
     },
     "execution_count": 18,
     "metadata": {},
     "output_type": "execute_result"
    }
   ],
   "source": [
    "x_data.head()"
   ]
  },
  {
   "cell_type": "code",
   "execution_count": 19,
   "id": "6dd04b34",
   "metadata": {},
   "outputs": [
    {
     "data": {
      "text/plain": [
       "0    288\n",
       "1    288\n",
       "4    288\n",
       "3    288\n",
       "2    286\n",
       "Name: labels, dtype: int64"
      ]
     },
     "execution_count": 19,
     "metadata": {},
     "output_type": "execute_result"
    }
   ],
   "source": [
    "y_data.value_counts()"
   ]
  },
  {
   "cell_type": "markdown",
   "id": "e7079aa3",
   "metadata": {},
   "source": [
    "## Normalizing the data"
   ]
  },
  {
   "cell_type": "code",
   "execution_count": 20,
   "id": "390fb7ca",
   "metadata": {},
   "outputs": [
    {
     "name": "stdout",
     "output_type": "stream",
     "text": [
      "Requirement already satisfied: scikit-learn in d:\\downloads\\python 3.10.0\\lib\\site-packages (1.3.0)\n",
      "Requirement already satisfied: numpy>=1.17.3 in d:\\downloads\\python 3.10.0\\lib\\site-packages (from scikit-learn) (1.24.0)\n",
      "Requirement already satisfied: scipy>=1.5.0 in d:\\downloads\\python 3.10.0\\lib\\site-packages (from scikit-learn) (1.10.1)\n",
      "Requirement already satisfied: joblib>=1.1.1 in d:\\downloads\\python 3.10.0\\lib\\site-packages (from scikit-learn) (1.3.1)\n",
      "Requirement already satisfied: threadpoolctl>=2.0.0 in d:\\downloads\\python 3.10.0\\lib\\site-packages (from scikit-learn) (3.1.0)\n",
      "Note: you may need to restart the kernel to use updated packages.\n"
     ]
    }
   ],
   "source": [
    "%pip install scikit-learn"
   ]
  },
  {
   "cell_type": "code",
   "execution_count": 21,
   "id": "902dc4de",
   "metadata": {},
   "outputs": [],
   "source": [
    "from sklearn.preprocessing import MinMaxScaler\n",
    "\n",
    "scaler = MinMaxScaler()\n",
    "scaled_data = scaler.fit_transform(x_data)\n",
    "x_data = pd.DataFrame(scaled_data, columns=x_data.columns)"
   ]
  },
  {
   "cell_type": "code",
   "execution_count": 22,
   "id": "0ec12601",
   "metadata": {},
   "outputs": [
    {
     "data": {
      "text/html": [
       "<div>\n",
       "<style scoped>\n",
       "    .dataframe tbody tr th:only-of-type {\n",
       "        vertical-align: middle;\n",
       "    }\n",
       "\n",
       "    .dataframe tbody tr th {\n",
       "        vertical-align: top;\n",
       "    }\n",
       "\n",
       "    .dataframe thead th {\n",
       "        text-align: right;\n",
       "    }\n",
       "</style>\n",
       "<table border=\"1\" class=\"dataframe\">\n",
       "  <thead>\n",
       "    <tr style=\"text-align: right;\">\n",
       "      <th></th>\n",
       "      <th>meanfreq</th>\n",
       "      <th>sd</th>\n",
       "      <th>median</th>\n",
       "      <th>Q25</th>\n",
       "      <th>Q75</th>\n",
       "      <th>IQR</th>\n",
       "      <th>skew</th>\n",
       "      <th>kurt</th>\n",
       "      <th>spent</th>\n",
       "      <th>sfm</th>\n",
       "      <th>mode</th>\n",
       "      <th>centroid</th>\n",
       "      <th>meanfun</th>\n",
       "      <th>minfun</th>\n",
       "      <th>maxfun</th>\n",
       "      <th>meandom</th>\n",
       "      <th>mindom</th>\n",
       "      <th>maxdom</th>\n",
       "      <th>dfrange</th>\n",
       "      <th>modindx</th>\n",
       "    </tr>\n",
       "  </thead>\n",
       "  <tbody>\n",
       "    <tr>\n",
       "      <th>0</th>\n",
       "      <td>0.739100</td>\n",
       "      <td>0.294738</td>\n",
       "      <td>0.423166</td>\n",
       "      <td>0.386035</td>\n",
       "      <td>0.305774</td>\n",
       "      <td>0.487672</td>\n",
       "      <td>0.411056</td>\n",
       "      <td>0.561670</td>\n",
       "      <td>0.292962</td>\n",
       "      <td>0.464069</td>\n",
       "      <td>0.423806</td>\n",
       "      <td>0.357832</td>\n",
       "      <td>0.441199</td>\n",
       "      <td>0.267644</td>\n",
       "      <td>0.359708</td>\n",
       "      <td>0.501010</td>\n",
       "      <td>0.179764</td>\n",
       "      <td>0.355220</td>\n",
       "      <td>0.198026</td>\n",
       "      <td>0.177889</td>\n",
       "    </tr>\n",
       "    <tr>\n",
       "      <th>1</th>\n",
       "      <td>0.896022</td>\n",
       "      <td>0.077395</td>\n",
       "      <td>0.638232</td>\n",
       "      <td>0.293560</td>\n",
       "      <td>0.456738</td>\n",
       "      <td>0.539659</td>\n",
       "      <td>0.626626</td>\n",
       "      <td>0.611646</td>\n",
       "      <td>0.605708</td>\n",
       "      <td>0.568923</td>\n",
       "      <td>0.524361</td>\n",
       "      <td>0.554126</td>\n",
       "      <td>0.525184</td>\n",
       "      <td>0.354006</td>\n",
       "      <td>0.591410</td>\n",
       "      <td>0.407976</td>\n",
       "      <td>0.529736</td>\n",
       "      <td>0.350592</td>\n",
       "      <td>0.328037</td>\n",
       "      <td>0.227720</td>\n",
       "    </tr>\n",
       "    <tr>\n",
       "      <th>2</th>\n",
       "      <td>0.670725</td>\n",
       "      <td>0.282287</td>\n",
       "      <td>0.405875</td>\n",
       "      <td>0.357322</td>\n",
       "      <td>0.247623</td>\n",
       "      <td>0.451184</td>\n",
       "      <td>0.365972</td>\n",
       "      <td>0.456112</td>\n",
       "      <td>0.244492</td>\n",
       "      <td>0.544428</td>\n",
       "      <td>0.364962</td>\n",
       "      <td>0.382866</td>\n",
       "      <td>0.445404</td>\n",
       "      <td>0.172067</td>\n",
       "      <td>0.412697</td>\n",
       "      <td>0.375616</td>\n",
       "      <td>0.159566</td>\n",
       "      <td>0.489246</td>\n",
       "      <td>0.184218</td>\n",
       "      <td>0.303365</td>\n",
       "    </tr>\n",
       "    <tr>\n",
       "      <th>3</th>\n",
       "      <td>0.522340</td>\n",
       "      <td>0.528564</td>\n",
       "      <td>0.607255</td>\n",
       "      <td>0.496193</td>\n",
       "      <td>0.529763</td>\n",
       "      <td>0.571449</td>\n",
       "      <td>0.597447</td>\n",
       "      <td>0.463710</td>\n",
       "      <td>0.326082</td>\n",
       "      <td>0.539810</td>\n",
       "      <td>0.474898</td>\n",
       "      <td>0.427436</td>\n",
       "      <td>0.579331</td>\n",
       "      <td>0.217466</td>\n",
       "      <td>0.495140</td>\n",
       "      <td>0.607333</td>\n",
       "      <td>0.247163</td>\n",
       "      <td>0.363446</td>\n",
       "      <td>0.299633</td>\n",
       "      <td>0.126269</td>\n",
       "    </tr>\n",
       "    <tr>\n",
       "      <th>4</th>\n",
       "      <td>0.758504</td>\n",
       "      <td>0.114006</td>\n",
       "      <td>0.740417</td>\n",
       "      <td>0.348545</td>\n",
       "      <td>0.516184</td>\n",
       "      <td>0.606604</td>\n",
       "      <td>0.691942</td>\n",
       "      <td>0.540590</td>\n",
       "      <td>0.592055</td>\n",
       "      <td>0.573909</td>\n",
       "      <td>0.532281</td>\n",
       "      <td>0.597030</td>\n",
       "      <td>0.534354</td>\n",
       "      <td>0.364882</td>\n",
       "      <td>0.680331</td>\n",
       "      <td>0.528539</td>\n",
       "      <td>0.587657</td>\n",
       "      <td>0.370158</td>\n",
       "      <td>0.389653</td>\n",
       "      <td>0.223943</td>\n",
       "    </tr>\n",
       "  </tbody>\n",
       "</table>\n",
       "</div>"
      ],
      "text/plain": [
       "   meanfreq        sd    median       Q25       Q75       IQR      skew  \\\n",
       "0  0.739100  0.294738  0.423166  0.386035  0.305774  0.487672  0.411056   \n",
       "1  0.896022  0.077395  0.638232  0.293560  0.456738  0.539659  0.626626   \n",
       "2  0.670725  0.282287  0.405875  0.357322  0.247623  0.451184  0.365972   \n",
       "3  0.522340  0.528564  0.607255  0.496193  0.529763  0.571449  0.597447   \n",
       "4  0.758504  0.114006  0.740417  0.348545  0.516184  0.606604  0.691942   \n",
       "\n",
       "       kurt     spent       sfm      mode  centroid   meanfun    minfun  \\\n",
       "0  0.561670  0.292962  0.464069  0.423806  0.357832  0.441199  0.267644   \n",
       "1  0.611646  0.605708  0.568923  0.524361  0.554126  0.525184  0.354006   \n",
       "2  0.456112  0.244492  0.544428  0.364962  0.382866  0.445404  0.172067   \n",
       "3  0.463710  0.326082  0.539810  0.474898  0.427436  0.579331  0.217466   \n",
       "4  0.540590  0.592055  0.573909  0.532281  0.597030  0.534354  0.364882   \n",
       "\n",
       "     maxfun   meandom    mindom    maxdom   dfrange   modindx  \n",
       "0  0.359708  0.501010  0.179764  0.355220  0.198026  0.177889  \n",
       "1  0.591410  0.407976  0.529736  0.350592  0.328037  0.227720  \n",
       "2  0.412697  0.375616  0.159566  0.489246  0.184218  0.303365  \n",
       "3  0.495140  0.607333  0.247163  0.363446  0.299633  0.126269  \n",
       "4  0.680331  0.528539  0.587657  0.370158  0.389653  0.223943  "
      ]
     },
     "execution_count": 22,
     "metadata": {},
     "output_type": "execute_result"
    }
   ],
   "source": [
    "x_data.head()"
   ]
  },
  {
   "cell_type": "code",
   "execution_count": 23,
   "id": "1bc2516e",
   "metadata": {},
   "outputs": [
    {
     "data": {
      "text/plain": [
       "0    0\n",
       "1    0\n",
       "2    0\n",
       "3    0\n",
       "4    0\n",
       "Name: labels, dtype: int64"
      ]
     },
     "execution_count": 23,
     "metadata": {},
     "output_type": "execute_result"
    }
   ],
   "source": [
    "y_data.head()"
   ]
  },
  {
   "cell_type": "markdown",
   "id": "b70ea968",
   "metadata": {},
   "source": [
    "## The values assigned to each emotion after Pre-processing are\n",
    "### 0 - angry, 1 - fear, 2 - happy, 3 - sad, 4 - calm"
   ]
  },
  {
   "cell_type": "markdown",
   "id": "28fe5cd2",
   "metadata": {},
   "source": [
    "## Feature Selection"
   ]
  },
  {
   "cell_type": "code",
   "execution_count": 24,
   "id": "60919c76",
   "metadata": {},
   "outputs": [],
   "source": [
    "from sklearn.decomposition import PCA"
   ]
  },
  {
   "cell_type": "code",
   "execution_count": 25,
   "id": "e7ff96d5",
   "metadata": {},
   "outputs": [],
   "source": [
    "pca = PCA()"
   ]
  },
  {
   "cell_type": "code",
   "execution_count": 26,
   "id": "bc570b83",
   "metadata": {},
   "outputs": [
    {
     "data": {
      "text/html": [
       "<style>#sk-container-id-1 {color: black;}#sk-container-id-1 pre{padding: 0;}#sk-container-id-1 div.sk-toggleable {background-color: white;}#sk-container-id-1 label.sk-toggleable__label {cursor: pointer;display: block;width: 100%;margin-bottom: 0;padding: 0.3em;box-sizing: border-box;text-align: center;}#sk-container-id-1 label.sk-toggleable__label-arrow:before {content: \"▸\";float: left;margin-right: 0.25em;color: #696969;}#sk-container-id-1 label.sk-toggleable__label-arrow:hover:before {color: black;}#sk-container-id-1 div.sk-estimator:hover label.sk-toggleable__label-arrow:before {color: black;}#sk-container-id-1 div.sk-toggleable__content {max-height: 0;max-width: 0;overflow: hidden;text-align: left;background-color: #f0f8ff;}#sk-container-id-1 div.sk-toggleable__content pre {margin: 0.2em;color: black;border-radius: 0.25em;background-color: #f0f8ff;}#sk-container-id-1 input.sk-toggleable__control:checked~div.sk-toggleable__content {max-height: 200px;max-width: 100%;overflow: auto;}#sk-container-id-1 input.sk-toggleable__control:checked~label.sk-toggleable__label-arrow:before {content: \"▾\";}#sk-container-id-1 div.sk-estimator input.sk-toggleable__control:checked~label.sk-toggleable__label {background-color: #d4ebff;}#sk-container-id-1 div.sk-label input.sk-toggleable__control:checked~label.sk-toggleable__label {background-color: #d4ebff;}#sk-container-id-1 input.sk-hidden--visually {border: 0;clip: rect(1px 1px 1px 1px);clip: rect(1px, 1px, 1px, 1px);height: 1px;margin: -1px;overflow: hidden;padding: 0;position: absolute;width: 1px;}#sk-container-id-1 div.sk-estimator {font-family: monospace;background-color: #f0f8ff;border: 1px dotted black;border-radius: 0.25em;box-sizing: border-box;margin-bottom: 0.5em;}#sk-container-id-1 div.sk-estimator:hover {background-color: #d4ebff;}#sk-container-id-1 div.sk-parallel-item::after {content: \"\";width: 100%;border-bottom: 1px solid gray;flex-grow: 1;}#sk-container-id-1 div.sk-label:hover label.sk-toggleable__label {background-color: #d4ebff;}#sk-container-id-1 div.sk-serial::before {content: \"\";position: absolute;border-left: 1px solid gray;box-sizing: border-box;top: 0;bottom: 0;left: 50%;z-index: 0;}#sk-container-id-1 div.sk-serial {display: flex;flex-direction: column;align-items: center;background-color: white;padding-right: 0.2em;padding-left: 0.2em;position: relative;}#sk-container-id-1 div.sk-item {position: relative;z-index: 1;}#sk-container-id-1 div.sk-parallel {display: flex;align-items: stretch;justify-content: center;background-color: white;position: relative;}#sk-container-id-1 div.sk-item::before, #sk-container-id-1 div.sk-parallel-item::before {content: \"\";position: absolute;border-left: 1px solid gray;box-sizing: border-box;top: 0;bottom: 0;left: 50%;z-index: -1;}#sk-container-id-1 div.sk-parallel-item {display: flex;flex-direction: column;z-index: 1;position: relative;background-color: white;}#sk-container-id-1 div.sk-parallel-item:first-child::after {align-self: flex-end;width: 50%;}#sk-container-id-1 div.sk-parallel-item:last-child::after {align-self: flex-start;width: 50%;}#sk-container-id-1 div.sk-parallel-item:only-child::after {width: 0;}#sk-container-id-1 div.sk-dashed-wrapped {border: 1px dashed gray;margin: 0 0.4em 0.5em 0.4em;box-sizing: border-box;padding-bottom: 0.4em;background-color: white;}#sk-container-id-1 div.sk-label label {font-family: monospace;font-weight: bold;display: inline-block;line-height: 1.2em;}#sk-container-id-1 div.sk-label-container {text-align: center;}#sk-container-id-1 div.sk-container {/* jupyter's `normalize.less` sets `[hidden] { display: none; }` but bootstrap.min.css set `[hidden] { display: none !important; }` so we also need the `!important` here to be able to override the default hidden behavior on the sphinx rendered scikit-learn.org. See: https://github.com/scikit-learn/scikit-learn/issues/21755 */display: inline-block !important;position: relative;}#sk-container-id-1 div.sk-text-repr-fallback {display: none;}</style><div id=\"sk-container-id-1\" class=\"sk-top-container\"><div class=\"sk-text-repr-fallback\"><pre>PCA()</pre><b>In a Jupyter environment, please rerun this cell to show the HTML representation or trust the notebook. <br />On GitHub, the HTML representation is unable to render, please try loading this page with nbviewer.org.</b></div><div class=\"sk-container\" hidden><div class=\"sk-item\"><div class=\"sk-estimator sk-toggleable\"><input class=\"sk-toggleable__control sk-hidden--visually\" id=\"sk-estimator-id-1\" type=\"checkbox\" checked><label for=\"sk-estimator-id-1\" class=\"sk-toggleable__label sk-toggleable__label-arrow\">PCA</label><div class=\"sk-toggleable__content\"><pre>PCA()</pre></div></div></div></div></div>"
      ],
      "text/plain": [
       "PCA()"
      ]
     },
     "execution_count": 26,
     "metadata": {},
     "output_type": "execute_result"
    }
   ],
   "source": [
    "pca.fit(x_data)"
   ]
  },
  {
   "cell_type": "code",
   "execution_count": 27,
   "id": "ce134d3f",
   "metadata": {},
   "outputs": [
    {
     "data": {
      "text/plain": [
       "array(['meanfreq', 'sd', 'median', 'Q25', 'Q75', 'IQR', 'skew', 'kurt',\n",
       "       'spent', 'sfm', 'mode', 'centroid', 'meanfun', 'minfun', 'maxfun',\n",
       "       'meandom', 'mindom', 'maxdom', 'dfrange', 'modindx'], dtype=object)"
      ]
     },
     "execution_count": 27,
     "metadata": {},
     "output_type": "execute_result"
    }
   ],
   "source": [
    "pca.feature_names_in_"
   ]
  },
  {
   "cell_type": "code",
   "execution_count": 28,
   "id": "806b30df",
   "metadata": {},
   "outputs": [],
   "source": [
    "exp_variance = pca.explained_variance_ratio_"
   ]
  },
  {
   "cell_type": "code",
   "execution_count": 29,
   "id": "6b9c3b6a",
   "metadata": {},
   "outputs": [
    {
     "data": {
      "text/plain": [
       "array([0.32882433, 0.1976354 , 0.07802403, 0.06604307, 0.05321201,\n",
       "       0.05041324, 0.0327666 , 0.02865774, 0.02378961, 0.02101776,\n",
       "       0.01881554, 0.01815383, 0.0155345 , 0.01449428, 0.01211893,\n",
       "       0.01054892, 0.0095647 , 0.00808431, 0.00661326, 0.00568794])"
      ]
     },
     "execution_count": 29,
     "metadata": {},
     "output_type": "execute_result"
    }
   ],
   "source": [
    "exp_variance"
   ]
  },
  {
   "cell_type": "code",
   "execution_count": 30,
   "id": "f3680758",
   "metadata": {},
   "outputs": [],
   "source": [
    "c = np.cumsum(exp_variance)"
   ]
  },
  {
   "cell_type": "code",
   "execution_count": 31,
   "id": "c16d60da",
   "metadata": {},
   "outputs": [
    {
     "data": {
      "text/plain": [
       "array([0.32882433, 0.52645973, 0.60448377, 0.67052683, 0.72373884,\n",
       "       0.77415208, 0.80691868, 0.83557642, 0.85936602, 0.88038378,\n",
       "       0.89919932, 0.91735315, 0.93288765, 0.94738193, 0.95950086,\n",
       "       0.97004978, 0.97961448, 0.98769879, 0.99431206, 1.        ])"
      ]
     },
     "execution_count": 31,
     "metadata": {},
     "output_type": "execute_result"
    }
   ],
   "source": [
    "c"
   ]
  },
  {
   "cell_type": "code",
   "execution_count": 32,
   "id": "8226aab6",
   "metadata": {},
   "outputs": [
    {
     "data": {
      "text/plain": [
       "15"
      ]
     },
     "execution_count": 32,
     "metadata": {},
     "output_type": "execute_result"
    }
   ],
   "source": [
    "d = np.argmax(c >= 0.95)+1\n",
    "d"
   ]
  },
  {
   "cell_type": "code",
   "execution_count": 33,
   "id": "6b2b1b3e",
   "metadata": {},
   "outputs": [],
   "source": [
    "x_data = x_data.iloc[:,:d]"
   ]
  },
  {
   "cell_type": "code",
   "execution_count": 34,
   "id": "de25ac9f",
   "metadata": {},
   "outputs": [
    {
     "data": {
      "text/html": [
       "<div>\n",
       "<style scoped>\n",
       "    .dataframe tbody tr th:only-of-type {\n",
       "        vertical-align: middle;\n",
       "    }\n",
       "\n",
       "    .dataframe tbody tr th {\n",
       "        vertical-align: top;\n",
       "    }\n",
       "\n",
       "    .dataframe thead th {\n",
       "        text-align: right;\n",
       "    }\n",
       "</style>\n",
       "<table border=\"1\" class=\"dataframe\">\n",
       "  <thead>\n",
       "    <tr style=\"text-align: right;\">\n",
       "      <th></th>\n",
       "      <th>meanfreq</th>\n",
       "      <th>sd</th>\n",
       "      <th>median</th>\n",
       "      <th>Q25</th>\n",
       "      <th>Q75</th>\n",
       "      <th>IQR</th>\n",
       "      <th>skew</th>\n",
       "      <th>kurt</th>\n",
       "      <th>spent</th>\n",
       "      <th>sfm</th>\n",
       "      <th>mode</th>\n",
       "      <th>centroid</th>\n",
       "      <th>meanfun</th>\n",
       "      <th>minfun</th>\n",
       "      <th>maxfun</th>\n",
       "    </tr>\n",
       "  </thead>\n",
       "  <tbody>\n",
       "    <tr>\n",
       "      <th>0</th>\n",
       "      <td>0.739100</td>\n",
       "      <td>0.294738</td>\n",
       "      <td>0.423166</td>\n",
       "      <td>0.386035</td>\n",
       "      <td>0.305774</td>\n",
       "      <td>0.487672</td>\n",
       "      <td>0.411056</td>\n",
       "      <td>0.561670</td>\n",
       "      <td>0.292962</td>\n",
       "      <td>0.464069</td>\n",
       "      <td>0.423806</td>\n",
       "      <td>0.357832</td>\n",
       "      <td>0.441199</td>\n",
       "      <td>0.267644</td>\n",
       "      <td>0.359708</td>\n",
       "    </tr>\n",
       "    <tr>\n",
       "      <th>1</th>\n",
       "      <td>0.896022</td>\n",
       "      <td>0.077395</td>\n",
       "      <td>0.638232</td>\n",
       "      <td>0.293560</td>\n",
       "      <td>0.456738</td>\n",
       "      <td>0.539659</td>\n",
       "      <td>0.626626</td>\n",
       "      <td>0.611646</td>\n",
       "      <td>0.605708</td>\n",
       "      <td>0.568923</td>\n",
       "      <td>0.524361</td>\n",
       "      <td>0.554126</td>\n",
       "      <td>0.525184</td>\n",
       "      <td>0.354006</td>\n",
       "      <td>0.591410</td>\n",
       "    </tr>\n",
       "    <tr>\n",
       "      <th>2</th>\n",
       "      <td>0.670725</td>\n",
       "      <td>0.282287</td>\n",
       "      <td>0.405875</td>\n",
       "      <td>0.357322</td>\n",
       "      <td>0.247623</td>\n",
       "      <td>0.451184</td>\n",
       "      <td>0.365972</td>\n",
       "      <td>0.456112</td>\n",
       "      <td>0.244492</td>\n",
       "      <td>0.544428</td>\n",
       "      <td>0.364962</td>\n",
       "      <td>0.382866</td>\n",
       "      <td>0.445404</td>\n",
       "      <td>0.172067</td>\n",
       "      <td>0.412697</td>\n",
       "    </tr>\n",
       "    <tr>\n",
       "      <th>3</th>\n",
       "      <td>0.522340</td>\n",
       "      <td>0.528564</td>\n",
       "      <td>0.607255</td>\n",
       "      <td>0.496193</td>\n",
       "      <td>0.529763</td>\n",
       "      <td>0.571449</td>\n",
       "      <td>0.597447</td>\n",
       "      <td>0.463710</td>\n",
       "      <td>0.326082</td>\n",
       "      <td>0.539810</td>\n",
       "      <td>0.474898</td>\n",
       "      <td>0.427436</td>\n",
       "      <td>0.579331</td>\n",
       "      <td>0.217466</td>\n",
       "      <td>0.495140</td>\n",
       "    </tr>\n",
       "    <tr>\n",
       "      <th>4</th>\n",
       "      <td>0.758504</td>\n",
       "      <td>0.114006</td>\n",
       "      <td>0.740417</td>\n",
       "      <td>0.348545</td>\n",
       "      <td>0.516184</td>\n",
       "      <td>0.606604</td>\n",
       "      <td>0.691942</td>\n",
       "      <td>0.540590</td>\n",
       "      <td>0.592055</td>\n",
       "      <td>0.573909</td>\n",
       "      <td>0.532281</td>\n",
       "      <td>0.597030</td>\n",
       "      <td>0.534354</td>\n",
       "      <td>0.364882</td>\n",
       "      <td>0.680331</td>\n",
       "    </tr>\n",
       "    <tr>\n",
       "      <th>...</th>\n",
       "      <td>...</td>\n",
       "      <td>...</td>\n",
       "      <td>...</td>\n",
       "      <td>...</td>\n",
       "      <td>...</td>\n",
       "      <td>...</td>\n",
       "      <td>...</td>\n",
       "      <td>...</td>\n",
       "      <td>...</td>\n",
       "      <td>...</td>\n",
       "      <td>...</td>\n",
       "      <td>...</td>\n",
       "      <td>...</td>\n",
       "      <td>...</td>\n",
       "      <td>...</td>\n",
       "    </tr>\n",
       "    <tr>\n",
       "      <th>1433</th>\n",
       "      <td>0.551404</td>\n",
       "      <td>0.264277</td>\n",
       "      <td>0.755030</td>\n",
       "      <td>0.402418</td>\n",
       "      <td>0.679818</td>\n",
       "      <td>0.659273</td>\n",
       "      <td>0.662518</td>\n",
       "      <td>0.561546</td>\n",
       "      <td>0.626926</td>\n",
       "      <td>0.563559</td>\n",
       "      <td>0.536666</td>\n",
       "      <td>0.543806</td>\n",
       "      <td>0.426487</td>\n",
       "      <td>0.403105</td>\n",
       "      <td>0.736377</td>\n",
       "    </tr>\n",
       "    <tr>\n",
       "      <th>1434</th>\n",
       "      <td>0.267457</td>\n",
       "      <td>0.722983</td>\n",
       "      <td>0.551154</td>\n",
       "      <td>0.593872</td>\n",
       "      <td>0.729112</td>\n",
       "      <td>0.641385</td>\n",
       "      <td>0.640173</td>\n",
       "      <td>0.381123</td>\n",
       "      <td>0.569782</td>\n",
       "      <td>0.579023</td>\n",
       "      <td>0.597376</td>\n",
       "      <td>0.420187</td>\n",
       "      <td>0.329129</td>\n",
       "      <td>0.475267</td>\n",
       "      <td>0.559450</td>\n",
       "    </tr>\n",
       "    <tr>\n",
       "      <th>1435</th>\n",
       "      <td>0.300857</td>\n",
       "      <td>0.739664</td>\n",
       "      <td>0.586260</td>\n",
       "      <td>0.459516</td>\n",
       "      <td>0.830998</td>\n",
       "      <td>0.651573</td>\n",
       "      <td>0.648955</td>\n",
       "      <td>0.526852</td>\n",
       "      <td>0.528186</td>\n",
       "      <td>0.505057</td>\n",
       "      <td>0.523433</td>\n",
       "      <td>0.488970</td>\n",
       "      <td>0.317377</td>\n",
       "      <td>0.423360</td>\n",
       "      <td>0.550485</td>\n",
       "    </tr>\n",
       "    <tr>\n",
       "      <th>1436</th>\n",
       "      <td>0.414975</td>\n",
       "      <td>0.513737</td>\n",
       "      <td>0.656282</td>\n",
       "      <td>0.402718</td>\n",
       "      <td>0.781304</td>\n",
       "      <td>0.653197</td>\n",
       "      <td>0.634789</td>\n",
       "      <td>0.511426</td>\n",
       "      <td>0.545828</td>\n",
       "      <td>0.492373</td>\n",
       "      <td>0.540192</td>\n",
       "      <td>0.485967</td>\n",
       "      <td>0.371969</td>\n",
       "      <td>0.357744</td>\n",
       "      <td>0.649380</td>\n",
       "    </tr>\n",
       "    <tr>\n",
       "      <th>1437</th>\n",
       "      <td>0.244836</td>\n",
       "      <td>0.701944</td>\n",
       "      <td>0.558655</td>\n",
       "      <td>0.501057</td>\n",
       "      <td>0.778235</td>\n",
       "      <td>0.630826</td>\n",
       "      <td>0.612043</td>\n",
       "      <td>0.426393</td>\n",
       "      <td>0.493332</td>\n",
       "      <td>0.512091</td>\n",
       "      <td>0.537376</td>\n",
       "      <td>0.449135</td>\n",
       "      <td>0.336464</td>\n",
       "      <td>0.412680</td>\n",
       "      <td>0.563622</td>\n",
       "    </tr>\n",
       "  </tbody>\n",
       "</table>\n",
       "<p>1438 rows × 15 columns</p>\n",
       "</div>"
      ],
      "text/plain": [
       "      meanfreq        sd    median       Q25       Q75       IQR      skew  \\\n",
       "0     0.739100  0.294738  0.423166  0.386035  0.305774  0.487672  0.411056   \n",
       "1     0.896022  0.077395  0.638232  0.293560  0.456738  0.539659  0.626626   \n",
       "2     0.670725  0.282287  0.405875  0.357322  0.247623  0.451184  0.365972   \n",
       "3     0.522340  0.528564  0.607255  0.496193  0.529763  0.571449  0.597447   \n",
       "4     0.758504  0.114006  0.740417  0.348545  0.516184  0.606604  0.691942   \n",
       "...        ...       ...       ...       ...       ...       ...       ...   \n",
       "1433  0.551404  0.264277  0.755030  0.402418  0.679818  0.659273  0.662518   \n",
       "1434  0.267457  0.722983  0.551154  0.593872  0.729112  0.641385  0.640173   \n",
       "1435  0.300857  0.739664  0.586260  0.459516  0.830998  0.651573  0.648955   \n",
       "1436  0.414975  0.513737  0.656282  0.402718  0.781304  0.653197  0.634789   \n",
       "1437  0.244836  0.701944  0.558655  0.501057  0.778235  0.630826  0.612043   \n",
       "\n",
       "          kurt     spent       sfm      mode  centroid   meanfun    minfun  \\\n",
       "0     0.561670  0.292962  0.464069  0.423806  0.357832  0.441199  0.267644   \n",
       "1     0.611646  0.605708  0.568923  0.524361  0.554126  0.525184  0.354006   \n",
       "2     0.456112  0.244492  0.544428  0.364962  0.382866  0.445404  0.172067   \n",
       "3     0.463710  0.326082  0.539810  0.474898  0.427436  0.579331  0.217466   \n",
       "4     0.540590  0.592055  0.573909  0.532281  0.597030  0.534354  0.364882   \n",
       "...        ...       ...       ...       ...       ...       ...       ...   \n",
       "1433  0.561546  0.626926  0.563559  0.536666  0.543806  0.426487  0.403105   \n",
       "1434  0.381123  0.569782  0.579023  0.597376  0.420187  0.329129  0.475267   \n",
       "1435  0.526852  0.528186  0.505057  0.523433  0.488970  0.317377  0.423360   \n",
       "1436  0.511426  0.545828  0.492373  0.540192  0.485967  0.371969  0.357744   \n",
       "1437  0.426393  0.493332  0.512091  0.537376  0.449135  0.336464  0.412680   \n",
       "\n",
       "        maxfun  \n",
       "0     0.359708  \n",
       "1     0.591410  \n",
       "2     0.412697  \n",
       "3     0.495140  \n",
       "4     0.680331  \n",
       "...        ...  \n",
       "1433  0.736377  \n",
       "1434  0.559450  \n",
       "1435  0.550485  \n",
       "1436  0.649380  \n",
       "1437  0.563622  \n",
       "\n",
       "[1438 rows x 15 columns]"
      ]
     },
     "execution_count": 34,
     "metadata": {},
     "output_type": "execute_result"
    }
   ],
   "source": [
    "x_data"
   ]
  },
  {
   "cell_type": "markdown",
   "id": "4e3b57b8",
   "metadata": {},
   "source": [
    "## Train Test split"
   ]
  },
  {
   "cell_type": "code",
   "execution_count": 35,
   "id": "86ccd18c",
   "metadata": {},
   "outputs": [],
   "source": [
    "from sklearn.model_selection import train_test_split\n",
    "x_train, x_test, y_train, y_test = train_test_split(x_data, y_data, test_size = 0.3, random_state = 123)"
   ]
  },
  {
   "cell_type": "markdown",
   "id": "d4c5bb3b",
   "metadata": {},
   "source": [
    "## Building a model"
   ]
  },
  {
   "cell_type": "markdown",
   "id": "736970e5",
   "metadata": {},
   "source": [
    "### Logistic Regression"
   ]
  },
  {
   "cell_type": "code",
   "execution_count": 36,
   "id": "a48f26e8",
   "metadata": {},
   "outputs": [],
   "source": [
    "from sklearn.linear_model import LogisticRegression"
   ]
  },
  {
   "cell_type": "code",
   "execution_count": 37,
   "id": "209d49c9",
   "metadata": {},
   "outputs": [],
   "source": [
    "lr = LogisticRegression(penalty='elasticnet', l1_ratio=0.5 ,multi_class='multinomial', class_weight='balanced', solver='saga')"
   ]
  },
  {
   "cell_type": "code",
   "execution_count": 38,
   "id": "aba8d4c0",
   "metadata": {},
   "outputs": [],
   "source": [
    "lr = lr.fit(x_train, y_train)"
   ]
  },
  {
   "cell_type": "code",
   "execution_count": 39,
   "id": "6261417a",
   "metadata": {},
   "outputs": [],
   "source": [
    "y_lr_pred = lr.predict(x_test)"
   ]
  },
  {
   "cell_type": "code",
   "execution_count": 40,
   "id": "793fe3bf",
   "metadata": {},
   "outputs": [],
   "source": [
    "from sklearn.metrics import accuracy_score"
   ]
  },
  {
   "cell_type": "code",
   "execution_count": 41,
   "id": "2e67ee85",
   "metadata": {},
   "outputs": [
    {
     "name": "stdout",
     "output_type": "stream",
     "text": [
      "Accuracy score : 0.5208333333333334\n"
     ]
    }
   ],
   "source": [
    "print(\"Accuracy score :\", accuracy_score(y_test, y_lr_pred))"
   ]
  },
  {
   "cell_type": "markdown",
   "id": "bd8aba7c",
   "metadata": {},
   "source": [
    "### Support Vector Machine"
   ]
  },
  {
   "cell_type": "code",
   "execution_count": 42,
   "id": "0d8a1cd4",
   "metadata": {},
   "outputs": [],
   "source": [
    "from sklearn.svm import SVC"
   ]
  },
  {
   "cell_type": "code",
   "execution_count": 43,
   "id": "ce7a0e2d",
   "metadata": {},
   "outputs": [],
   "source": [
    "svm = SVC(kernel='rbf', C=10, class_weight='balanced',decision_function_shape='ovr', break_ties=True, shrinking=False, gamma = 15, random_state=42)"
   ]
  },
  {
   "cell_type": "code",
   "execution_count": 44,
   "id": "0f8f8deb",
   "metadata": {},
   "outputs": [
    {
     "data": {
      "text/html": [
       "<style>#sk-container-id-2 {color: black;}#sk-container-id-2 pre{padding: 0;}#sk-container-id-2 div.sk-toggleable {background-color: white;}#sk-container-id-2 label.sk-toggleable__label {cursor: pointer;display: block;width: 100%;margin-bottom: 0;padding: 0.3em;box-sizing: border-box;text-align: center;}#sk-container-id-2 label.sk-toggleable__label-arrow:before {content: \"▸\";float: left;margin-right: 0.25em;color: #696969;}#sk-container-id-2 label.sk-toggleable__label-arrow:hover:before {color: black;}#sk-container-id-2 div.sk-estimator:hover label.sk-toggleable__label-arrow:before {color: black;}#sk-container-id-2 div.sk-toggleable__content {max-height: 0;max-width: 0;overflow: hidden;text-align: left;background-color: #f0f8ff;}#sk-container-id-2 div.sk-toggleable__content pre {margin: 0.2em;color: black;border-radius: 0.25em;background-color: #f0f8ff;}#sk-container-id-2 input.sk-toggleable__control:checked~div.sk-toggleable__content {max-height: 200px;max-width: 100%;overflow: auto;}#sk-container-id-2 input.sk-toggleable__control:checked~label.sk-toggleable__label-arrow:before {content: \"▾\";}#sk-container-id-2 div.sk-estimator input.sk-toggleable__control:checked~label.sk-toggleable__label {background-color: #d4ebff;}#sk-container-id-2 div.sk-label input.sk-toggleable__control:checked~label.sk-toggleable__label {background-color: #d4ebff;}#sk-container-id-2 input.sk-hidden--visually {border: 0;clip: rect(1px 1px 1px 1px);clip: rect(1px, 1px, 1px, 1px);height: 1px;margin: -1px;overflow: hidden;padding: 0;position: absolute;width: 1px;}#sk-container-id-2 div.sk-estimator {font-family: monospace;background-color: #f0f8ff;border: 1px dotted black;border-radius: 0.25em;box-sizing: border-box;margin-bottom: 0.5em;}#sk-container-id-2 div.sk-estimator:hover {background-color: #d4ebff;}#sk-container-id-2 div.sk-parallel-item::after {content: \"\";width: 100%;border-bottom: 1px solid gray;flex-grow: 1;}#sk-container-id-2 div.sk-label:hover label.sk-toggleable__label {background-color: #d4ebff;}#sk-container-id-2 div.sk-serial::before {content: \"\";position: absolute;border-left: 1px solid gray;box-sizing: border-box;top: 0;bottom: 0;left: 50%;z-index: 0;}#sk-container-id-2 div.sk-serial {display: flex;flex-direction: column;align-items: center;background-color: white;padding-right: 0.2em;padding-left: 0.2em;position: relative;}#sk-container-id-2 div.sk-item {position: relative;z-index: 1;}#sk-container-id-2 div.sk-parallel {display: flex;align-items: stretch;justify-content: center;background-color: white;position: relative;}#sk-container-id-2 div.sk-item::before, #sk-container-id-2 div.sk-parallel-item::before {content: \"\";position: absolute;border-left: 1px solid gray;box-sizing: border-box;top: 0;bottom: 0;left: 50%;z-index: -1;}#sk-container-id-2 div.sk-parallel-item {display: flex;flex-direction: column;z-index: 1;position: relative;background-color: white;}#sk-container-id-2 div.sk-parallel-item:first-child::after {align-self: flex-end;width: 50%;}#sk-container-id-2 div.sk-parallel-item:last-child::after {align-self: flex-start;width: 50%;}#sk-container-id-2 div.sk-parallel-item:only-child::after {width: 0;}#sk-container-id-2 div.sk-dashed-wrapped {border: 1px dashed gray;margin: 0 0.4em 0.5em 0.4em;box-sizing: border-box;padding-bottom: 0.4em;background-color: white;}#sk-container-id-2 div.sk-label label {font-family: monospace;font-weight: bold;display: inline-block;line-height: 1.2em;}#sk-container-id-2 div.sk-label-container {text-align: center;}#sk-container-id-2 div.sk-container {/* jupyter's `normalize.less` sets `[hidden] { display: none; }` but bootstrap.min.css set `[hidden] { display: none !important; }` so we also need the `!important` here to be able to override the default hidden behavior on the sphinx rendered scikit-learn.org. See: https://github.com/scikit-learn/scikit-learn/issues/21755 */display: inline-block !important;position: relative;}#sk-container-id-2 div.sk-text-repr-fallback {display: none;}</style><div id=\"sk-container-id-2\" class=\"sk-top-container\"><div class=\"sk-text-repr-fallback\"><pre>SVC(C=10, break_ties=True, class_weight=&#x27;balanced&#x27;, gamma=15, random_state=42,\n",
       "    shrinking=False)</pre><b>In a Jupyter environment, please rerun this cell to show the HTML representation or trust the notebook. <br />On GitHub, the HTML representation is unable to render, please try loading this page with nbviewer.org.</b></div><div class=\"sk-container\" hidden><div class=\"sk-item\"><div class=\"sk-estimator sk-toggleable\"><input class=\"sk-toggleable__control sk-hidden--visually\" id=\"sk-estimator-id-2\" type=\"checkbox\" checked><label for=\"sk-estimator-id-2\" class=\"sk-toggleable__label sk-toggleable__label-arrow\">SVC</label><div class=\"sk-toggleable__content\"><pre>SVC(C=10, break_ties=True, class_weight=&#x27;balanced&#x27;, gamma=15, random_state=42,\n",
       "    shrinking=False)</pre></div></div></div></div></div>"
      ],
      "text/plain": [
       "SVC(C=10, break_ties=True, class_weight='balanced', gamma=15, random_state=42,\n",
       "    shrinking=False)"
      ]
     },
     "execution_count": 44,
     "metadata": {},
     "output_type": "execute_result"
    }
   ],
   "source": [
    "svm.fit(x_train, y_train)"
   ]
  },
  {
   "cell_type": "code",
   "execution_count": 45,
   "id": "0e50c4b8",
   "metadata": {},
   "outputs": [],
   "source": [
    "y_svm_pred = svm.predict(x_test)"
   ]
  },
  {
   "cell_type": "code",
   "execution_count": 46,
   "id": "da30f3c7",
   "metadata": {},
   "outputs": [
    {
     "name": "stdout",
     "output_type": "stream",
     "text": [
      "Accuracy score : 0.8078703703703703\n"
     ]
    }
   ],
   "source": [
    "print(\"Accuracy score :\", accuracy_score(y_test, y_svm_pred))"
   ]
  },
  {
   "cell_type": "markdown",
   "id": "797dc898",
   "metadata": {},
   "source": [
    "### K Nearest Neighbors"
   ]
  },
  {
   "cell_type": "code",
   "execution_count": 47,
   "id": "0507a74b",
   "metadata": {},
   "outputs": [],
   "source": [
    "from sklearn.neighbors import KNeighborsClassifier"
   ]
  },
  {
   "cell_type": "code",
   "execution_count": 48,
   "id": "66bd22b6",
   "metadata": {},
   "outputs": [],
   "source": [
    "knn = KNeighborsClassifier(n_neighbors=3, weights='distance',algorithm='brute', p=2, n_jobs=1)"
   ]
  },
  {
   "cell_type": "code",
   "execution_count": 49,
   "id": "b0e57eaf",
   "metadata": {},
   "outputs": [
    {
     "data": {
      "text/html": [
       "<style>#sk-container-id-3 {color: black;}#sk-container-id-3 pre{padding: 0;}#sk-container-id-3 div.sk-toggleable {background-color: white;}#sk-container-id-3 label.sk-toggleable__label {cursor: pointer;display: block;width: 100%;margin-bottom: 0;padding: 0.3em;box-sizing: border-box;text-align: center;}#sk-container-id-3 label.sk-toggleable__label-arrow:before {content: \"▸\";float: left;margin-right: 0.25em;color: #696969;}#sk-container-id-3 label.sk-toggleable__label-arrow:hover:before {color: black;}#sk-container-id-3 div.sk-estimator:hover label.sk-toggleable__label-arrow:before {color: black;}#sk-container-id-3 div.sk-toggleable__content {max-height: 0;max-width: 0;overflow: hidden;text-align: left;background-color: #f0f8ff;}#sk-container-id-3 div.sk-toggleable__content pre {margin: 0.2em;color: black;border-radius: 0.25em;background-color: #f0f8ff;}#sk-container-id-3 input.sk-toggleable__control:checked~div.sk-toggleable__content {max-height: 200px;max-width: 100%;overflow: auto;}#sk-container-id-3 input.sk-toggleable__control:checked~label.sk-toggleable__label-arrow:before {content: \"▾\";}#sk-container-id-3 div.sk-estimator input.sk-toggleable__control:checked~label.sk-toggleable__label {background-color: #d4ebff;}#sk-container-id-3 div.sk-label input.sk-toggleable__control:checked~label.sk-toggleable__label {background-color: #d4ebff;}#sk-container-id-3 input.sk-hidden--visually {border: 0;clip: rect(1px 1px 1px 1px);clip: rect(1px, 1px, 1px, 1px);height: 1px;margin: -1px;overflow: hidden;padding: 0;position: absolute;width: 1px;}#sk-container-id-3 div.sk-estimator {font-family: monospace;background-color: #f0f8ff;border: 1px dotted black;border-radius: 0.25em;box-sizing: border-box;margin-bottom: 0.5em;}#sk-container-id-3 div.sk-estimator:hover {background-color: #d4ebff;}#sk-container-id-3 div.sk-parallel-item::after {content: \"\";width: 100%;border-bottom: 1px solid gray;flex-grow: 1;}#sk-container-id-3 div.sk-label:hover label.sk-toggleable__label {background-color: #d4ebff;}#sk-container-id-3 div.sk-serial::before {content: \"\";position: absolute;border-left: 1px solid gray;box-sizing: border-box;top: 0;bottom: 0;left: 50%;z-index: 0;}#sk-container-id-3 div.sk-serial {display: flex;flex-direction: column;align-items: center;background-color: white;padding-right: 0.2em;padding-left: 0.2em;position: relative;}#sk-container-id-3 div.sk-item {position: relative;z-index: 1;}#sk-container-id-3 div.sk-parallel {display: flex;align-items: stretch;justify-content: center;background-color: white;position: relative;}#sk-container-id-3 div.sk-item::before, #sk-container-id-3 div.sk-parallel-item::before {content: \"\";position: absolute;border-left: 1px solid gray;box-sizing: border-box;top: 0;bottom: 0;left: 50%;z-index: -1;}#sk-container-id-3 div.sk-parallel-item {display: flex;flex-direction: column;z-index: 1;position: relative;background-color: white;}#sk-container-id-3 div.sk-parallel-item:first-child::after {align-self: flex-end;width: 50%;}#sk-container-id-3 div.sk-parallel-item:last-child::after {align-self: flex-start;width: 50%;}#sk-container-id-3 div.sk-parallel-item:only-child::after {width: 0;}#sk-container-id-3 div.sk-dashed-wrapped {border: 1px dashed gray;margin: 0 0.4em 0.5em 0.4em;box-sizing: border-box;padding-bottom: 0.4em;background-color: white;}#sk-container-id-3 div.sk-label label {font-family: monospace;font-weight: bold;display: inline-block;line-height: 1.2em;}#sk-container-id-3 div.sk-label-container {text-align: center;}#sk-container-id-3 div.sk-container {/* jupyter's `normalize.less` sets `[hidden] { display: none; }` but bootstrap.min.css set `[hidden] { display: none !important; }` so we also need the `!important` here to be able to override the default hidden behavior on the sphinx rendered scikit-learn.org. See: https://github.com/scikit-learn/scikit-learn/issues/21755 */display: inline-block !important;position: relative;}#sk-container-id-3 div.sk-text-repr-fallback {display: none;}</style><div id=\"sk-container-id-3\" class=\"sk-top-container\"><div class=\"sk-text-repr-fallback\"><pre>KNeighborsClassifier(algorithm=&#x27;brute&#x27;, n_jobs=1, n_neighbors=3,\n",
       "                     weights=&#x27;distance&#x27;)</pre><b>In a Jupyter environment, please rerun this cell to show the HTML representation or trust the notebook. <br />On GitHub, the HTML representation is unable to render, please try loading this page with nbviewer.org.</b></div><div class=\"sk-container\" hidden><div class=\"sk-item\"><div class=\"sk-estimator sk-toggleable\"><input class=\"sk-toggleable__control sk-hidden--visually\" id=\"sk-estimator-id-3\" type=\"checkbox\" checked><label for=\"sk-estimator-id-3\" class=\"sk-toggleable__label sk-toggleable__label-arrow\">KNeighborsClassifier</label><div class=\"sk-toggleable__content\"><pre>KNeighborsClassifier(algorithm=&#x27;brute&#x27;, n_jobs=1, n_neighbors=3,\n",
       "                     weights=&#x27;distance&#x27;)</pre></div></div></div></div></div>"
      ],
      "text/plain": [
       "KNeighborsClassifier(algorithm='brute', n_jobs=1, n_neighbors=3,\n",
       "                     weights='distance')"
      ]
     },
     "execution_count": 49,
     "metadata": {},
     "output_type": "execute_result"
    }
   ],
   "source": [
    "knn.fit(x_train, y_train)"
   ]
  },
  {
   "cell_type": "code",
   "execution_count": 50,
   "id": "494424c2",
   "metadata": {},
   "outputs": [],
   "source": [
    "y_knn_pred = knn.predict(x_test)"
   ]
  },
  {
   "cell_type": "code",
   "execution_count": 51,
   "id": "53d92a50",
   "metadata": {},
   "outputs": [
    {
     "name": "stdout",
     "output_type": "stream",
     "text": [
      "Accuracy score: 0.7685185185185185\n"
     ]
    }
   ],
   "source": [
    "print(\"Accuracy score:\", accuracy_score(y_test, y_knn_pred))"
   ]
  },
  {
   "cell_type": "markdown",
   "id": "7e66f918",
   "metadata": {},
   "source": [
    "### Naive Bayes"
   ]
  },
  {
   "cell_type": "code",
   "execution_count": 52,
   "id": "35286793",
   "metadata": {},
   "outputs": [],
   "source": [
    "from sklearn.naive_bayes import MultinomialNB"
   ]
  },
  {
   "cell_type": "code",
   "execution_count": 53,
   "id": "71a2d537",
   "metadata": {},
   "outputs": [],
   "source": [
    "nb = MultinomialNB()"
   ]
  },
  {
   "cell_type": "code",
   "execution_count": 54,
   "id": "af3dca17",
   "metadata": {},
   "outputs": [
    {
     "data": {
      "text/html": [
       "<style>#sk-container-id-4 {color: black;}#sk-container-id-4 pre{padding: 0;}#sk-container-id-4 div.sk-toggleable {background-color: white;}#sk-container-id-4 label.sk-toggleable__label {cursor: pointer;display: block;width: 100%;margin-bottom: 0;padding: 0.3em;box-sizing: border-box;text-align: center;}#sk-container-id-4 label.sk-toggleable__label-arrow:before {content: \"▸\";float: left;margin-right: 0.25em;color: #696969;}#sk-container-id-4 label.sk-toggleable__label-arrow:hover:before {color: black;}#sk-container-id-4 div.sk-estimator:hover label.sk-toggleable__label-arrow:before {color: black;}#sk-container-id-4 div.sk-toggleable__content {max-height: 0;max-width: 0;overflow: hidden;text-align: left;background-color: #f0f8ff;}#sk-container-id-4 div.sk-toggleable__content pre {margin: 0.2em;color: black;border-radius: 0.25em;background-color: #f0f8ff;}#sk-container-id-4 input.sk-toggleable__control:checked~div.sk-toggleable__content {max-height: 200px;max-width: 100%;overflow: auto;}#sk-container-id-4 input.sk-toggleable__control:checked~label.sk-toggleable__label-arrow:before {content: \"▾\";}#sk-container-id-4 div.sk-estimator input.sk-toggleable__control:checked~label.sk-toggleable__label {background-color: #d4ebff;}#sk-container-id-4 div.sk-label input.sk-toggleable__control:checked~label.sk-toggleable__label {background-color: #d4ebff;}#sk-container-id-4 input.sk-hidden--visually {border: 0;clip: rect(1px 1px 1px 1px);clip: rect(1px, 1px, 1px, 1px);height: 1px;margin: -1px;overflow: hidden;padding: 0;position: absolute;width: 1px;}#sk-container-id-4 div.sk-estimator {font-family: monospace;background-color: #f0f8ff;border: 1px dotted black;border-radius: 0.25em;box-sizing: border-box;margin-bottom: 0.5em;}#sk-container-id-4 div.sk-estimator:hover {background-color: #d4ebff;}#sk-container-id-4 div.sk-parallel-item::after {content: \"\";width: 100%;border-bottom: 1px solid gray;flex-grow: 1;}#sk-container-id-4 div.sk-label:hover label.sk-toggleable__label {background-color: #d4ebff;}#sk-container-id-4 div.sk-serial::before {content: \"\";position: absolute;border-left: 1px solid gray;box-sizing: border-box;top: 0;bottom: 0;left: 50%;z-index: 0;}#sk-container-id-4 div.sk-serial {display: flex;flex-direction: column;align-items: center;background-color: white;padding-right: 0.2em;padding-left: 0.2em;position: relative;}#sk-container-id-4 div.sk-item {position: relative;z-index: 1;}#sk-container-id-4 div.sk-parallel {display: flex;align-items: stretch;justify-content: center;background-color: white;position: relative;}#sk-container-id-4 div.sk-item::before, #sk-container-id-4 div.sk-parallel-item::before {content: \"\";position: absolute;border-left: 1px solid gray;box-sizing: border-box;top: 0;bottom: 0;left: 50%;z-index: -1;}#sk-container-id-4 div.sk-parallel-item {display: flex;flex-direction: column;z-index: 1;position: relative;background-color: white;}#sk-container-id-4 div.sk-parallel-item:first-child::after {align-self: flex-end;width: 50%;}#sk-container-id-4 div.sk-parallel-item:last-child::after {align-self: flex-start;width: 50%;}#sk-container-id-4 div.sk-parallel-item:only-child::after {width: 0;}#sk-container-id-4 div.sk-dashed-wrapped {border: 1px dashed gray;margin: 0 0.4em 0.5em 0.4em;box-sizing: border-box;padding-bottom: 0.4em;background-color: white;}#sk-container-id-4 div.sk-label label {font-family: monospace;font-weight: bold;display: inline-block;line-height: 1.2em;}#sk-container-id-4 div.sk-label-container {text-align: center;}#sk-container-id-4 div.sk-container {/* jupyter's `normalize.less` sets `[hidden] { display: none; }` but bootstrap.min.css set `[hidden] { display: none !important; }` so we also need the `!important` here to be able to override the default hidden behavior on the sphinx rendered scikit-learn.org. See: https://github.com/scikit-learn/scikit-learn/issues/21755 */display: inline-block !important;position: relative;}#sk-container-id-4 div.sk-text-repr-fallback {display: none;}</style><div id=\"sk-container-id-4\" class=\"sk-top-container\"><div class=\"sk-text-repr-fallback\"><pre>MultinomialNB()</pre><b>In a Jupyter environment, please rerun this cell to show the HTML representation or trust the notebook. <br />On GitHub, the HTML representation is unable to render, please try loading this page with nbviewer.org.</b></div><div class=\"sk-container\" hidden><div class=\"sk-item\"><div class=\"sk-estimator sk-toggleable\"><input class=\"sk-toggleable__control sk-hidden--visually\" id=\"sk-estimator-id-4\" type=\"checkbox\" checked><label for=\"sk-estimator-id-4\" class=\"sk-toggleable__label sk-toggleable__label-arrow\">MultinomialNB</label><div class=\"sk-toggleable__content\"><pre>MultinomialNB()</pre></div></div></div></div></div>"
      ],
      "text/plain": [
       "MultinomialNB()"
      ]
     },
     "execution_count": 54,
     "metadata": {},
     "output_type": "execute_result"
    }
   ],
   "source": [
    "nb.fit(x_train, y_train)"
   ]
  },
  {
   "cell_type": "code",
   "execution_count": 55,
   "id": "f18dc9a2",
   "metadata": {},
   "outputs": [],
   "source": [
    "y_nb_pred = nb.predict(x_test)"
   ]
  },
  {
   "cell_type": "code",
   "execution_count": 56,
   "id": "343104fd",
   "metadata": {},
   "outputs": [
    {
     "name": "stdout",
     "output_type": "stream",
     "text": [
      "Accuracy score : 0.28935185185185186\n"
     ]
    }
   ],
   "source": [
    "print(\"Accuracy score :\", accuracy_score(y_test, y_nb_pred))"
   ]
  },
  {
   "cell_type": "markdown",
   "id": "51c8f2c2",
   "metadata": {},
   "source": [
    "### Deicision Trees"
   ]
  },
  {
   "cell_type": "code",
   "execution_count": 57,
   "id": "8dacc2d0",
   "metadata": {},
   "outputs": [],
   "source": [
    "from sklearn.tree import DecisionTreeClassifier"
   ]
  },
  {
   "cell_type": "code",
   "execution_count": 58,
   "id": "38774598",
   "metadata": {},
   "outputs": [],
   "source": [
    "dt = DecisionTreeClassifier(criterion='entropy', random_state=123, max_depth=None, max_features=None, min_impurity_decrease= 0.0,\n",
    "                            class_weight=\"balanced\")"
   ]
  },
  {
   "cell_type": "code",
   "execution_count": 59,
   "id": "dcaa733f",
   "metadata": {},
   "outputs": [],
   "source": [
    "dt = dt.fit(x_train, y_train)"
   ]
  },
  {
   "cell_type": "code",
   "execution_count": 60,
   "id": "1c54b194",
   "metadata": {},
   "outputs": [],
   "source": [
    "y_dt_pred = dt.predict(x_test)"
   ]
  },
  {
   "cell_type": "code",
   "execution_count": 61,
   "id": "0520c340",
   "metadata": {},
   "outputs": [
    {
     "name": "stdout",
     "output_type": "stream",
     "text": [
      "Accuracy score: 0.5439814814814815\n"
     ]
    }
   ],
   "source": [
    "print(\"Accuracy score:\", accuracy_score(y_test, y_dt_pred))"
   ]
  },
  {
   "cell_type": "markdown",
   "id": "1d569c2d",
   "metadata": {},
   "source": [
    "### Random Forest"
   ]
  },
  {
   "cell_type": "code",
   "execution_count": 62,
   "id": "cd3f7668",
   "metadata": {},
   "outputs": [],
   "source": [
    "from sklearn.ensemble import RandomForestClassifier"
   ]
  },
  {
   "cell_type": "code",
   "execution_count": 63,
   "id": "64a889de",
   "metadata": {},
   "outputs": [],
   "source": [
    "rfc = RandomForestClassifier(n_estimators=300, criterion='entropy', random_state=123, max_depth=None, bootstrap=True, oob_score=True, \n",
    "                            max_features=None, min_impurity_decrease= 0.0, class_weight=\"balanced_subsample\")"
   ]
  },
  {
   "cell_type": "code",
   "execution_count": 64,
   "id": "8d16a1e5",
   "metadata": {},
   "outputs": [
    {
     "data": {
      "text/html": [
       "<style>#sk-container-id-5 {color: black;}#sk-container-id-5 pre{padding: 0;}#sk-container-id-5 div.sk-toggleable {background-color: white;}#sk-container-id-5 label.sk-toggleable__label {cursor: pointer;display: block;width: 100%;margin-bottom: 0;padding: 0.3em;box-sizing: border-box;text-align: center;}#sk-container-id-5 label.sk-toggleable__label-arrow:before {content: \"▸\";float: left;margin-right: 0.25em;color: #696969;}#sk-container-id-5 label.sk-toggleable__label-arrow:hover:before {color: black;}#sk-container-id-5 div.sk-estimator:hover label.sk-toggleable__label-arrow:before {color: black;}#sk-container-id-5 div.sk-toggleable__content {max-height: 0;max-width: 0;overflow: hidden;text-align: left;background-color: #f0f8ff;}#sk-container-id-5 div.sk-toggleable__content pre {margin: 0.2em;color: black;border-radius: 0.25em;background-color: #f0f8ff;}#sk-container-id-5 input.sk-toggleable__control:checked~div.sk-toggleable__content {max-height: 200px;max-width: 100%;overflow: auto;}#sk-container-id-5 input.sk-toggleable__control:checked~label.sk-toggleable__label-arrow:before {content: \"▾\";}#sk-container-id-5 div.sk-estimator input.sk-toggleable__control:checked~label.sk-toggleable__label {background-color: #d4ebff;}#sk-container-id-5 div.sk-label input.sk-toggleable__control:checked~label.sk-toggleable__label {background-color: #d4ebff;}#sk-container-id-5 input.sk-hidden--visually {border: 0;clip: rect(1px 1px 1px 1px);clip: rect(1px, 1px, 1px, 1px);height: 1px;margin: -1px;overflow: hidden;padding: 0;position: absolute;width: 1px;}#sk-container-id-5 div.sk-estimator {font-family: monospace;background-color: #f0f8ff;border: 1px dotted black;border-radius: 0.25em;box-sizing: border-box;margin-bottom: 0.5em;}#sk-container-id-5 div.sk-estimator:hover {background-color: #d4ebff;}#sk-container-id-5 div.sk-parallel-item::after {content: \"\";width: 100%;border-bottom: 1px solid gray;flex-grow: 1;}#sk-container-id-5 div.sk-label:hover label.sk-toggleable__label {background-color: #d4ebff;}#sk-container-id-5 div.sk-serial::before {content: \"\";position: absolute;border-left: 1px solid gray;box-sizing: border-box;top: 0;bottom: 0;left: 50%;z-index: 0;}#sk-container-id-5 div.sk-serial {display: flex;flex-direction: column;align-items: center;background-color: white;padding-right: 0.2em;padding-left: 0.2em;position: relative;}#sk-container-id-5 div.sk-item {position: relative;z-index: 1;}#sk-container-id-5 div.sk-parallel {display: flex;align-items: stretch;justify-content: center;background-color: white;position: relative;}#sk-container-id-5 div.sk-item::before, #sk-container-id-5 div.sk-parallel-item::before {content: \"\";position: absolute;border-left: 1px solid gray;box-sizing: border-box;top: 0;bottom: 0;left: 50%;z-index: -1;}#sk-container-id-5 div.sk-parallel-item {display: flex;flex-direction: column;z-index: 1;position: relative;background-color: white;}#sk-container-id-5 div.sk-parallel-item:first-child::after {align-self: flex-end;width: 50%;}#sk-container-id-5 div.sk-parallel-item:last-child::after {align-self: flex-start;width: 50%;}#sk-container-id-5 div.sk-parallel-item:only-child::after {width: 0;}#sk-container-id-5 div.sk-dashed-wrapped {border: 1px dashed gray;margin: 0 0.4em 0.5em 0.4em;box-sizing: border-box;padding-bottom: 0.4em;background-color: white;}#sk-container-id-5 div.sk-label label {font-family: monospace;font-weight: bold;display: inline-block;line-height: 1.2em;}#sk-container-id-5 div.sk-label-container {text-align: center;}#sk-container-id-5 div.sk-container {/* jupyter's `normalize.less` sets `[hidden] { display: none; }` but bootstrap.min.css set `[hidden] { display: none !important; }` so we also need the `!important` here to be able to override the default hidden behavior on the sphinx rendered scikit-learn.org. See: https://github.com/scikit-learn/scikit-learn/issues/21755 */display: inline-block !important;position: relative;}#sk-container-id-5 div.sk-text-repr-fallback {display: none;}</style><div id=\"sk-container-id-5\" class=\"sk-top-container\"><div class=\"sk-text-repr-fallback\"><pre>RandomForestClassifier(class_weight=&#x27;balanced_subsample&#x27;, criterion=&#x27;entropy&#x27;,\n",
       "                       max_features=None, n_estimators=300, oob_score=True,\n",
       "                       random_state=123)</pre><b>In a Jupyter environment, please rerun this cell to show the HTML representation or trust the notebook. <br />On GitHub, the HTML representation is unable to render, please try loading this page with nbviewer.org.</b></div><div class=\"sk-container\" hidden><div class=\"sk-item\"><div class=\"sk-estimator sk-toggleable\"><input class=\"sk-toggleable__control sk-hidden--visually\" id=\"sk-estimator-id-5\" type=\"checkbox\" checked><label for=\"sk-estimator-id-5\" class=\"sk-toggleable__label sk-toggleable__label-arrow\">RandomForestClassifier</label><div class=\"sk-toggleable__content\"><pre>RandomForestClassifier(class_weight=&#x27;balanced_subsample&#x27;, criterion=&#x27;entropy&#x27;,\n",
       "                       max_features=None, n_estimators=300, oob_score=True,\n",
       "                       random_state=123)</pre></div></div></div></div></div>"
      ],
      "text/plain": [
       "RandomForestClassifier(class_weight='balanced_subsample', criterion='entropy',\n",
       "                       max_features=None, n_estimators=300, oob_score=True,\n",
       "                       random_state=123)"
      ]
     },
     "execution_count": 64,
     "metadata": {},
     "output_type": "execute_result"
    }
   ],
   "source": [
    "# Fit the classifier to the training data\n",
    "rfc.fit(x_train, y_train)"
   ]
  },
  {
   "cell_type": "code",
   "execution_count": 65,
   "id": "b051d967",
   "metadata": {},
   "outputs": [],
   "source": [
    "# Predict on the test set\n",
    "y_rfc_pred = rfc.predict(x_test)"
   ]
  },
  {
   "cell_type": "code",
   "execution_count": 66,
   "id": "d03f3e94",
   "metadata": {},
   "outputs": [
    {
     "name": "stdout",
     "output_type": "stream",
     "text": [
      "Accuracy score : 0.7013888888888888\n"
     ]
    }
   ],
   "source": [
    "print(\"Accuracy score :\", accuracy_score(y_test, y_rfc_pred))"
   ]
  },
  {
   "cell_type": "markdown",
   "id": "1e69a067",
   "metadata": {},
   "source": [
    "# The best accuracy is obtained by *Support Vector Machine* algorithm"
   ]
  },
  {
   "cell_type": "markdown",
   "id": "d522116a",
   "metadata": {},
   "source": [
    "## Checking for accuracy"
   ]
  },
  {
   "cell_type": "code",
   "execution_count": 67,
   "id": "e8e83ce7",
   "metadata": {},
   "outputs": [
    {
     "name": "stdout",
     "output_type": "stream",
     "text": [
      "Accuracy score : 0.8078703703703703\n"
     ]
    }
   ],
   "source": [
    "print(\"Accuracy score :\", accuracy_score(y_test, y_svm_pred))"
   ]
  },
  {
   "cell_type": "code",
   "execution_count": 68,
   "id": "4cb227ff",
   "metadata": {},
   "outputs": [],
   "source": [
    "from sklearn.metrics import f1_score, precision_score, recall_score"
   ]
  },
  {
   "cell_type": "code",
   "execution_count": 69,
   "id": "f79d254c",
   "metadata": {},
   "outputs": [
    {
     "name": "stdout",
     "output_type": "stream",
     "text": [
      "Precision : 0.8090112934461593\n"
     ]
    }
   ],
   "source": [
    "precision = precision_score(y_test, y_svm_pred, average = \"weighted\")\n",
    "print(\"Precision :\",precision)"
   ]
  },
  {
   "cell_type": "code",
   "execution_count": 70,
   "id": "d0f14346",
   "metadata": {},
   "outputs": [
    {
     "name": "stdout",
     "output_type": "stream",
     "text": [
      "Recall : 0.8078703703703703\n"
     ]
    }
   ],
   "source": [
    "recall = recall_score(y_test, y_svm_pred, average = \"weighted\")\n",
    "print(\"Recall :\",recall)"
   ]
  },
  {
   "cell_type": "code",
   "execution_count": 71,
   "id": "f7becb29",
   "metadata": {},
   "outputs": [
    {
     "name": "stdout",
     "output_type": "stream",
     "text": [
      "F1 score : 0.8072921567676059\n"
     ]
    }
   ],
   "source": [
    "f1 = f1_score(y_test, y_svm_pred, average = \"weighted\")\n",
    "print(\"F1 score :\", f1)"
   ]
  },
  {
   "cell_type": "code",
   "execution_count": 72,
   "id": "e20139da",
   "metadata": {},
   "outputs": [
    {
     "data": {
      "text/plain": [
       "array([0, 1, 2, 3, 4], dtype=int64)"
      ]
     },
     "execution_count": 72,
     "metadata": {},
     "output_type": "execute_result"
    }
   ],
   "source": [
    "svm.classes_"
   ]
  },
  {
   "cell_type": "code",
   "execution_count": 73,
   "id": "b7bce9ca",
   "metadata": {},
   "outputs": [
    {
     "data": {
      "text/plain": [
       "15"
      ]
     },
     "execution_count": 73,
     "metadata": {},
     "output_type": "execute_result"
    }
   ],
   "source": [
    "svm.n_features_in_"
   ]
  },
  {
   "cell_type": "code",
   "execution_count": 74,
   "id": "948df6c9",
   "metadata": {},
   "outputs": [
    {
     "data": {
      "text/plain": [
       "array(['meanfreq', 'sd', 'median', 'Q25', 'Q75', 'IQR', 'skew', 'kurt',\n",
       "       'spent', 'sfm', 'mode', 'centroid', 'meanfun', 'minfun', 'maxfun'],\n",
       "      dtype=object)"
      ]
     },
     "execution_count": 74,
     "metadata": {},
     "output_type": "execute_result"
    }
   ],
   "source": [
    "svm.feature_names_in_"
   ]
  },
  {
   "cell_type": "code",
   "execution_count": 75,
   "id": "9a48a85e",
   "metadata": {},
   "outputs": [
    {
     "data": {
      "text/plain": [
       "0.8072921567676059"
      ]
     },
     "execution_count": 75,
     "metadata": {},
     "output_type": "execute_result"
    }
   ],
   "source": [
    "f1_score(y_test, y_svm_pred, average = \"weighted\")"
   ]
  },
  {
   "cell_type": "code",
   "execution_count": 76,
   "id": "2399ec9a",
   "metadata": {},
   "outputs": [],
   "source": [
    "from sklearn.metrics import precision_score, recall_score"
   ]
  },
  {
   "cell_type": "code",
   "execution_count": 77,
   "id": "d82547a2",
   "metadata": {},
   "outputs": [],
   "source": [
    "precision = precision_score(y_test, y_svm_pred, average='weighted')\n",
    "recall = recall_score(y_test, y_svm_pred, average='weighted')"
   ]
  },
  {
   "cell_type": "code",
   "execution_count": 78,
   "id": "57c35527",
   "metadata": {},
   "outputs": [],
   "source": [
    "F1 = 2 * (precision * recall) / (precision + recall)"
   ]
  },
  {
   "cell_type": "code",
   "execution_count": 79,
   "id": "2e7c8afe",
   "metadata": {},
   "outputs": [
    {
     "data": {
      "text/plain": [
       "0.8084404293724783"
      ]
     },
     "execution_count": 79,
     "metadata": {},
     "output_type": "execute_result"
    }
   ],
   "source": [
    "F1"
   ]
  },
  {
   "cell_type": "code",
   "execution_count": 87,
   "id": "7c5d602d",
   "metadata": {},
   "outputs": [],
   "source": [
    "from sklearn.metrics import classification_report"
   ]
  },
  {
   "cell_type": "code",
   "execution_count": 88,
   "id": "18def647",
   "metadata": {},
   "outputs": [],
   "source": [
    "report = classification_report(y_test, y_svm_pred)"
   ]
  },
  {
   "cell_type": "code",
   "execution_count": 91,
   "id": "1c514bdf",
   "metadata": {},
   "outputs": [
    {
     "name": "stdout",
     "output_type": "stream",
     "text": [
      "              precision    recall  f1-score   support\n",
      "\n",
      "           0       0.89      0.79      0.84       101\n",
      "           1       0.71      0.67      0.69        70\n",
      "           2       0.76      0.80      0.78        83\n",
      "           3       0.79      0.84      0.81        86\n",
      "           4       0.86      0.91      0.88        92\n",
      "\n",
      "    accuracy                           0.81       432\n",
      "   macro avg       0.80      0.80      0.80       432\n",
      "weighted avg       0.81      0.81      0.81       432\n",
      "\n"
     ]
    }
   ],
   "source": [
    "print(report)"
   ]
  },
  {
   "cell_type": "markdown",
   "id": "889e8da9",
   "metadata": {},
   "source": [
    "## Confusion Matrix"
   ]
  },
  {
   "cell_type": "code",
   "execution_count": 80,
   "id": "14dee513",
   "metadata": {},
   "outputs": [],
   "source": [
    "from sklearn.metrics import confusion_matrix"
   ]
  },
  {
   "cell_type": "code",
   "execution_count": 81,
   "id": "08cfd618",
   "metadata": {},
   "outputs": [],
   "source": [
    "cm = confusion_matrix(y_test, y_svm_pred)"
   ]
  },
  {
   "cell_type": "code",
   "execution_count": 82,
   "id": "239a1cd6",
   "metadata": {},
   "outputs": [],
   "source": [
    "import seaborn as sns\n",
    "import matplotlib.pyplot as plt"
   ]
  },
  {
   "cell_type": "code",
   "execution_count": 83,
   "id": "4e6b6d0a",
   "metadata": {},
   "outputs": [
    {
     "data": {
      "image/png": "[encoded data removed]",
      "text/plain": [
       "<Figure size 1200x800 with 2 Axes>"
      ]
     },
     "metadata": {},
     "output_type": "display_data"
    }
   ],
   "source": [
    "plt.figure(figsize = (12,8))\n",
    "plt.title(\"Confusion matrix on Male test data using Support Vector Machine\")\n",
    "sns.heatmap(cm, annot = True, fmt = 'd', cmap = plt.cm.Reds, cbar = True, annot_kws = {'size' : 14})\n",
    "plt.xlabel(\"Predicted Label\")\n",
    "plt.ylabel(\"True Label\")\n",
    "plt.show()"
   ]
  },
  {
   "cell_type": "markdown",
   "id": "c156e4c7",
   "metadata": {},
   "source": [
    "## Saving the ML model using joblib"
   ]
  },
  {
   "cell_type": "code",
   "execution_count": 84,
   "id": "678f3419",
   "metadata": {},
   "outputs": [],
   "source": [
    "import joblib"
   ]
  },
  {
   "cell_type": "code",
   "execution_count": 85,
   "id": "4a557184",
   "metadata": {},
   "outputs": [],
   "source": [
    "# with open('svm_male_joblib.joblib', 'wb') as file:\n",
    "#     joblib.dump(svm, file)"
   ]
  },
  {
   "cell_type": "code",
   "execution_count": 86,
   "id": "2e6aeb90",
   "metadata": {},
   "outputs": [],
   "source": [
    "with open('svm_male_joblib.joblib', 'rb') as file:\n",
    "    loaded_model = joblib.load(file)"
   ]
  }
 ],
 "metadata": {
  "kernelspec": {
   "display_name": "Python 3 (ipykernel)",
   "language": "python",
   "name": "python3"
  },
  "language_info": {
   "codemirror_mode": {
    "name": "ipython",
    "version": 3
   },
   "file_extension": ".py",
   "mimetype": "text/x-python",
   "name": "python",
   "nbconvert_exporter": "python",
   "pygments_lexer": "ipython3",
   "version": "3.10.0"
  }
 },
 "nbformat": 4,
 "nbformat_minor": 5
}
